{
 "cells": [
  {
   "cell_type": "markdown",
   "metadata": {},
   "source": [
    "<h1 align='center'>Assignment 5</h1>\n",
    "<h1 align='center'>Logistic Regression on Donors Choose Dataset</h1>"
   ]
  },
  {
   "cell_type": "markdown",
   "metadata": {},
   "source": [
    "# Table of Contents\n",
    "<strong>\n",
    "1. [Pre-processing](#pre) <br>\n",
    "   1.1. [Pre-processing of project subject category](#presc) <br>\n",
    "   1.2. [Pre-processing of project subject sub-category](#prescs) <br>\n",
    "   1.3. [Text pre-processing](#txtpre) <br>\n",
    "   1.4. [Preprocessing of Project Grade Category](#prepgc) <br>\n",
    "   1.5. [Counting the number of words for project_title for SET-5](#countit) <br>\n",
    "   1.6. [Counting the number of words for project_essay for SET-5](#countess) <br>\n",
    "   1.7. [Computing Sentiment Score of each essay for SET-5](#ss) <br>\n",
    "2. [Splitting of data](#split) <br>\n",
    "3. [Creating data matrix using feature engineering techniques](#feat) <br>\n",
    "   3.1. [Bag of Words Encoding](#bow) <br>\n",
    "   3.2. [TFIDF Encoding](#tfidf) <br>\n",
    "   3.3. [AVG W2V Encoding](#avgw2v) <br>\n",
    "   3.4. [TFIDF AVG W2V Encoding](#tfidfavgw2v) <br>\n",
    "4. [One hot encoding of categorical features](#ohe) <br>\n",
    "   4.1. [One hot encoding of state](#ohes) <br>\n",
    "   4.2. [One hot encoding of teacher prefix](#ohetp) <br>\n",
    "   4.3. [One hot encoding of project grade category](#ohepgc) <br>\n",
    "   4.4. [One hot encoding of project subject category](#ohepsc) <br>\n",
    "   4.5. [One hot encoding of project subject sub-category](#ohepsc) <br>\n",
    "5. [Standardizing numerical features](#normal) <br>\n",
    "   5.1. [Standardizing teacher no. of previously posted projects](#normalppp) <br>\n",
    "   5.2. [Standardizing price](#normalp) <br>\n",
    "   5.3. [Standardizing quantity](#normalq) <br>\n",
    "   5.4. [Standardizing TOTALWORDS_TITLE for SET-5](#normaltwt) <br>\n",
    "   5.5. [Standardizing TOTALWORDS_ESSAY for SET-5](#normaltwe) <br>\n",
    "   5.6. [Note for Standardizing SENTIMENT SCORES for SET-5](#note) <br>\n",
    "6. [Concatinating all features](#merge) <br>\n",
    "   6.1. [Concatinating features for BoW](#mergebow) <br>\n",
    "   6.2. [Concatinating features for TFIDF](#mergetfidf) <br>\n",
    "   6.3. [Concatinating features for AVG W2V](#mergew2v) <br>\n",
    "   6.4. [Concatinating features for TFIDF AVG W2V](#mergetfidfw2v) <br>\n",
    "   6.5. [Concatinating features for SET-5](#feat5) <br>\n",
    "7. [(TASK-1) Applying Logistic Regression](#knn) <br>\n",
    "   7.1. [Set-1 categorical, numerical features + project_title(BOW) + preprocessed_essay (BOW with bi-grams with min_df=10 and max_features=5000)](#set1) <br>\n",
    "   7.2. [Set-2 categorical, numerical features + project_title(TFIDF)+ preprocessed_essay (TFIDF with bi-grams with min_df=10 and max_features=5000)](#set2) <br>\n",
    "   7.3. [Set-3: categorical, numerical features + project_title(AVG W2V)+ preprocessed_essay (AVG W2V)](#set3) <br>\n",
    "   7.4. [Set-4: categorical, numerical features + project_title(TFIDF AVG W2V)+ preprocessed_essay (TFIDF AVG W2V)](#set4)<br> \n",
    "   7.5. [(TASK-2) Set-5: Applying Logistic Regression WITHOUT TEXT FEATURES (Essay, Project Title and Project Resource Summary)](#set5) \n",
    "8. [Conclusion using PrettyTable Library](#conc) <br>"
   ]
  },
  {
   "cell_type": "code",
   "execution_count": null,
   "metadata": {},
   "outputs": [],
   "source": [
    "#importing all the libraries\n",
    "%matplotlib inline\n",
    "import warnings\n",
    "warnings.filterwarnings(\"ignore\")\n",
    "\n",
    "import sqlite3\n",
    "import pandas as pd\n",
    "import numpy as np\n",
    "import nltk\n",
    "import string\n",
    "import matplotlib.pyplot as plt\n",
    "import seaborn as sns\n",
    "from sklearn.feature_extraction.text import TfidfTransformer\n",
    "from sklearn.feature_extraction.text import TfidfVectorizer\n",
    "\n",
    "from sklearn.feature_extraction.text import CountVectorizer\n",
    "from sklearn.metrics import confusion_matrix\n",
    "from sklearn import metrics\n",
    "from sklearn.metrics import roc_curve, auc\n",
    "from nltk.stem.porter import PorterStemmer\n",
    "\n",
    "import re\n",
    "# Tutorial about Python regular expressions: https://pymotw.com/2/re/\n",
    "import string\n",
    "from nltk.corpus import stopwords\n",
    "from nltk.stem import PorterStemmer\n",
    "from nltk.stem.wordnet import WordNetLemmatizer\n",
    "\n",
    "from gensim.models import Word2Vec\n",
    "from gensim.models import KeyedVectors\n",
    "import pickle\n",
    "\n",
    "from tqdm import tqdm\n",
    "import os\n",
    "\n",
    "from plotly import plotly\n",
    "import plotly.offline as offline\n",
    "import plotly.graph_objs as go\n",
    "offline.init_notebook_mode()\n",
    "from collections import Counter"
   ]
  },
  {
   "cell_type": "code",
   "execution_count": null,
   "metadata": {},
   "outputs": [],
   "source": [
    "#Loading the dataset\n",
    "project_data  = pd.read_csv('train_data.csv')\n",
    "resource_data = pd.read_csv('resources.csv')\n",
    "project_data.head(3)"
   ]
  },
  {
   "cell_type": "code",
   "execution_count": null,
   "metadata": {},
   "outputs": [],
   "source": [
    "#In the values we have considered, we have the division of accepted and rejected as follows.\n",
    "#It can be said that it is an imbalanced dataset\n",
    "project_data['project_is_approved'].value_counts()"
   ]
  },
  {
   "cell_type": "code",
   "execution_count": null,
   "metadata": {},
   "outputs": [],
   "source": [
    "# https://stackoverflow.com/questions/22407798/how-to-reset-a-dataframes-indexes-for-all-groups-in-one-step\n",
    "price_data = resource_data.groupby('id').agg({'price':'sum', 'quantity':'sum'}).reset_index()\n",
    "\n",
    "# join two dataframes in python: \n",
    "project_data = pd.merge(project_data, price_data, on='id', how='left')"
   ]
  },
  {
   "cell_type": "code",
   "execution_count": null,
   "metadata": {},
   "outputs": [],
   "source": [
    "print(\"Summary of Data: \", project_data.info())"
   ]
  },
  {
   "cell_type": "code",
   "execution_count": null,
   "metadata": {},
   "outputs": [],
   "source": [
    "# how to replace elements in list python: https://stackoverflow.com/a/2582163/4084039\n",
    "cols = ['Date' if x=='project_submitted_datetime' else x for x in list(project_data.columns)]\n",
    "\n",
    "#sort dataframe based on time pandas python: https://stackoverflow.com/a/49702492/4084039\n",
    "project_data['Date'] = pd.to_datetime(project_data['project_submitted_datetime'])\n",
    "project_data.drop('project_submitted_datetime', axis=1, inplace=True)\n",
    "project_data.sort_values(by=['Date'], inplace=True)\n",
    "\n",
    "# how to reorder columns pandas python: https://stackoverflow.com/a/13148611/4084039\n",
    "project_data = project_data[cols]\n",
    "\n",
    "project_data.head(2)"
   ]
  },
  {
   "cell_type": "markdown",
   "metadata": {},
   "source": [
    "# 1. Pre-processing\n",
    "<a id='pre'></a>"
   ]
  },
  {
   "cell_type": "markdown",
   "metadata": {},
   "source": [
    "### 1.1 Preprocessing of project subject category\n",
    "<a id='presc'></a>"
   ]
  },
  {
   "cell_type": "code",
   "execution_count": null,
   "metadata": {},
   "outputs": [],
   "source": [
    "catogories = list(project_data['project_subject_categories'].values)\n",
    "# remove special characters from list of strings python: https://stackoverflow.com/a/47301924/4084039\n",
    "\n",
    "# https://www.geeksforgeeks.org/removing-stop-words-nltk-python/\n",
    "# https://stackoverflow.com/questions/23669024/how-to-strip-a-specific-word-from-a-string\n",
    "# https://stackoverflow.com/questions/8270092/remove-all-whitespace-in-a-string-in-python\n",
    "cat_list = []\n",
    "for i in catogories:\n",
    "    temp = \"\"\n",
    "    # consider we have text like this \"Math & Science, Warmth, Care & Hunger\"\n",
    "    for j in i.split(','): # it will split it in three parts [\"Math & Science\", \"Warmth\", \"Care & Hunger\"]\n",
    "        if 'The' in j.split(): # this will split each of the catogory based on space \"Math & Science\"=> \"Math\",\"&\", \"Science\"\n",
    "            j=j.replace('The','') # if we have the words \"The\" we are going to replace it with ''(i.e removing 'The')\n",
    "        j = j.replace(' ','') # we are placeing all the ' '(space) with ''(empty) ex:\"Math & Science\"=>\"Math&Science\"\n",
    "        temp+=j.strip()+\" \" #\" abc \".strip() will return \"abc\", remove the trailing spaces\n",
    "        temp = temp.replace('&','_') # we are replacing the & value into \n",
    "    cat_list.append(temp.strip())\n",
    "    \n",
    "project_data['clean_categories'] = cat_list\n",
    "project_data.drop(['project_subject_categories'], axis=1, inplace=True)\n",
    "\n",
    "from collections import Counter\n",
    "my_counter = Counter()\n",
    "for word in project_data['clean_categories'].values:\n",
    "    my_counter.update(word.split())\n",
    "\n",
    "cat_dict = dict(my_counter)\n",
    "sorted_cat_dict = dict(sorted(cat_dict.items(), key=lambda kv: kv[1]))"
   ]
  },
  {
   "cell_type": "markdown",
   "metadata": {},
   "source": [
    "### 1.2 Preprocessing of project subject sub-category\n",
    "<a id='prescs'></a>"
   ]
  },
  {
   "cell_type": "code",
   "execution_count": null,
   "metadata": {},
   "outputs": [],
   "source": [
    "sub_catogories = list(project_data['project_subject_subcategories'].values)\n",
    "# remove special characters from list of strings python: https://stackoverflow.com/a/47301924/4084039\n",
    "\n",
    "# https://www.geeksforgeeks.org/removing-stop-words-nltk-python/\n",
    "# https://stackoverflow.com/questions/23669024/how-to-strip-a-specific-word-from-a-string\n",
    "# https://stackoverflow.com/questions/8270092/remove-all-whitespace-in-a-string-in-python\n",
    "\n",
    "sub_cat_list = []\n",
    "for i in sub_catogories:\n",
    "    temp = \"\"\n",
    "    # consider we have text like this \"Math & Science, Warmth, Care & Hunger\"\n",
    "    for j in i.split(','): # it will split it in three parts [\"Math & Science\", \"Warmth\", \"Care & Hunger\"]\n",
    "        if 'The' in j.split(): # this will split each of the catogory based on space \"Math & Science\"=> \"Math\",\"&\", \"Science\"\n",
    "            j=j.replace('The','') # if we have the words \"The\" we are going to replace it with ''(i.e removing 'The')\n",
    "        j = j.replace(' ','') # we are placeing all the ' '(space) with ''(empty) ex:\"Math & Science\"=>\"Math&Science\"\n",
    "        temp +=j.strip()+\" \"#\" abc \".strip() will return \"abc\", remove the trailing spaces\n",
    "        temp = temp.replace('&','_')\n",
    "    sub_cat_list.append(temp.strip())\n",
    "\n",
    "project_data['clean_subcategories'] = sub_cat_list\n",
    "project_data.drop(['project_subject_subcategories'], axis=1, inplace=True)\n",
    "\n",
    "# count of all the words in corpus python: https://stackoverflow.com/a/22898595/4084039\n",
    "my_counter = Counter()\n",
    "for word in project_data['clean_subcategories'].values:\n",
    "    my_counter.update(word.split())\n",
    "    \n",
    "sub_cat_dict = dict(my_counter)\n",
    "sorted_sub_cat_dict = dict(sorted(sub_cat_dict.items(), key=lambda kv: kv[1]))"
   ]
  },
  {
   "cell_type": "markdown",
   "metadata": {},
   "source": [
    "### 1.3 Text - preprocessing\n",
    "<a id='txtpre'></a>"
   ]
  },
  {
   "cell_type": "code",
   "execution_count": null,
   "metadata": {},
   "outputs": [],
   "source": [
    "#Pre processing of essay.\n",
    "# merge two column text dataframe: \n",
    "project_data[\"essay\"] = project_data[\"project_essay_1\"].map(str) +\\\n",
    "                        project_data[\"project_essay_2\"].map(str) + \\\n",
    "                        project_data[\"project_essay_3\"].map(str) + \\\n",
    "                        project_data[\"project_essay_4\"].map(str)"
   ]
  },
  {
   "cell_type": "code",
   "execution_count": null,
   "metadata": {},
   "outputs": [],
   "source": [
    "# printing some random reviews\n",
    "print(project_data['essay'].values[0])\n",
    "print(\"=\"*50)\n",
    "print(project_data['essay'].values[150])\n",
    "print(\"=\"*50)\n",
    "print(project_data['essay'].values[1000])\n",
    "print(\"=\"*50)\n",
    "print(project_data['essay'].values[20000])\n",
    "print(\"=\"*50)"
   ]
  },
  {
   "cell_type": "code",
   "execution_count": null,
   "metadata": {},
   "outputs": [],
   "source": [
    "# https://stackoverflow.com/a/47091490/4084039\n",
    "import re\n",
    "\n",
    "def decontracted(phrase):\n",
    "    # specific\n",
    "    phrase = re.sub(r\"won't\", \"will not\", phrase)\n",
    "    phrase = re.sub(r\"can\\'t\", \"can not\", phrase)\n",
    "\n",
    "    # general\n",
    "    phrase = re.sub(r\"n\\'t\", \" not\", phrase)\n",
    "    phrase = re.sub(r\"\\'re\", \" are\", phrase)\n",
    "    phrase = re.sub(r\"\\'s\", \" is\", phrase)\n",
    "    phrase = re.sub(r\"\\'d\", \" would\", phrase)\n",
    "    phrase = re.sub(r\"\\'ll\", \" will\", phrase)\n",
    "    phrase = re.sub(r\"\\'t\", \" not\", phrase)\n",
    "    phrase = re.sub(r\"\\'ve\", \" have\", phrase)\n",
    "    phrase = re.sub(r\"\\'m\", \" am\", phrase)\n",
    "    return phrase"
   ]
  },
  {
   "cell_type": "code",
   "execution_count": null,
   "metadata": {},
   "outputs": [],
   "source": [
    "sent = decontracted(project_data['essay'].values[20000])\n",
    "print(sent)\n",
    "print(\"=\"*50)"
   ]
  },
  {
   "cell_type": "code",
   "execution_count": null,
   "metadata": {},
   "outputs": [],
   "source": [
    "# \\r \\n \\t remove from string python: http://texthandler.com/info/remove-line-breaks-python/\n",
    "sent = sent.replace('\\\\r', ' ')\n",
    "sent = sent.replace('\\\\\"', ' ')\n",
    "sent = sent.replace('\\\\n', ' ')\n",
    "print(sent)"
   ]
  },
  {
   "cell_type": "code",
   "execution_count": null,
   "metadata": {},
   "outputs": [],
   "source": [
    "#remove special character: https://stackoverflow.com/a/5843547/4084039\n",
    "sent = re.sub('[^A-Za-z0-9]+', ' ', sent)\n",
    "print(sent)"
   ]
  },
  {
   "cell_type": "code",
   "execution_count": null,
   "metadata": {},
   "outputs": [],
   "source": [
    "# https://gist.github.com/sebleier/554280\n",
    "# we are removing the words from the stop words list: 'no', 'nor', 'not'\n",
    "stopwords= ['i', 'me', 'my', 'myself', 'we', 'our', 'ours', 'ourselves', 'you', \"you're\", \"you've\",\\\n",
    "            \"you'll\", \"you'd\", 'your', 'yours', 'yourself', 'yourselves', 'he', 'him', 'his', 'himself', \\\n",
    "            'she', \"she's\", 'her', 'hers', 'herself', 'it', \"it's\", 'its', 'itself', 'they', 'them', 'their',\\\n",
    "            'theirs', 'themselves', 'what', 'which', 'who', 'whom', 'this', 'that', \"that'll\", 'these', 'those', \\\n",
    "            'am', 'is', 'are', 'was', 'were', 'be', 'been', 'being', 'have', 'has', 'had', 'having', 'do', 'does', \\\n",
    "            'did', 'doing', 'a', 'an', 'the', 'and', 'but', 'if', 'or', 'because', 'as', 'until', 'while', 'of', \\\n",
    "            'at', 'by', 'for', 'with', 'about', 'against', 'between', 'into', 'through', 'during', 'before', 'after',\\\n",
    "            'above', 'below', 'to', 'from', 'up', 'down', 'in', 'out', 'on', 'off', 'over', 'under', 'again', 'further',\\\n",
    "            'then', 'once', 'here', 'there', 'when', 'where', 'why', 'how', 'all', 'any', 'both', 'each', 'few', 'more',\\\n",
    "            'most', 'other', 'some', 'such', 'only', 'own', 'same', 'so', 'than', 'too', 'very', \\\n",
    "            's', 't', 'can', 'will', 'just', 'don', \"don't\", 'should', \"should've\", 'now', 'd', 'll', 'm', 'o', 're', \\\n",
    "            've', 'y', 'ain', 'aren', \"aren't\", 'couldn', \"couldn't\", 'didn', \"didn't\", 'doesn', \"doesn't\", 'hadn',\\\n",
    "            \"hadn't\", 'hasn', \"hasn't\", 'haven', \"haven't\", 'isn', \"isn't\", 'ma', 'mightn', \"mightn't\", 'mustn',\\\n",
    "            \"mustn't\", 'needn', \"needn't\", 'shan', \"shan't\", 'shouldn', \"shouldn't\", 'wasn', \"wasn't\", 'weren', \"weren't\", \\\n",
    "            'won', \"won't\", 'wouldn', \"wouldn't\"]"
   ]
  },
  {
   "cell_type": "code",
   "execution_count": null,
   "metadata": {},
   "outputs": [],
   "source": [
    "# Combining all the above stundents \n",
    "from tqdm import tqdm\n",
    "preprocessed_essays = []\n",
    "# tqdm is for printing the status bar\n",
    "for sentance in tqdm(project_data['essay'].values):\n",
    "    sent = decontracted(sentance)\n",
    "    sent = sent.replace('\\\\r', ' ')\n",
    "    sent = sent.replace('\\\\\"', ' ')\n",
    "    sent = sent.replace('\\\\n', ' ')\n",
    "    sent = re.sub('[^A-Za-z0-9]+', ' ', sent)\n",
    "    # https://gist.github.com/sebleier/554280\n",
    "    sent = ' '.join(e for e in sent.split() if e.lower() not in stopwords)\n",
    "    preprocessed_essays.append(sent.lower().strip())"
   ]
  },
  {
   "cell_type": "code",
   "execution_count": null,
   "metadata": {},
   "outputs": [],
   "source": [
    "#preprocessing of project title.\n",
    "from tqdm import tqdm\n",
    "preprocessed_title = []\n",
    "# tqdm is for printing the status bar\n",
    "for sentance in tqdm(project_data['project_title'].values):\n",
    "    sent = decontracted(sentance)\n",
    "    sent = sent.replace('\\\\r', ' ')\n",
    "    sent = sent.replace('\\\\\"', ' ')\n",
    "    sent = sent.replace('\\\\n', ' ')\n",
    "    sent = re.sub('[^A-Za-z0-9]+', ' ', sent)\n",
    "    # https://gist.github.com/sebleier/554280\n",
    "    sent = ' '.join(e for e in sent.split() if e.lower() not in stopwords)\n",
    "    preprocessed_title.append(sent.lower().strip())"
   ]
  },
  {
   "cell_type": "code",
   "execution_count": null,
   "metadata": {},
   "outputs": [],
   "source": [
    "#teacher prefix contains null values.\n",
    "project_data[\"teacher_prefix\"].fillna(\"null\", inplace = True)"
   ]
  },
  {
   "cell_type": "code",
   "execution_count": null,
   "metadata": {},
   "outputs": [],
   "source": [
    "#Replacing actual column values with the preprocessed ones.\n",
    "project_data['project_title'] = preprocessed_title\n",
    "project_data['essay'] = preprocessed_essays"
   ]
  },
  {
   "cell_type": "code",
   "execution_count": null,
   "metadata": {},
   "outputs": [],
   "source": [
    "#Since we have summed essay into one. We dont need 4 essays. \n",
    "#Citation: pandas drop a column\n",
    "#url: https://stackoverflow.com/questions/13411544/delete-column-from-pandas-dataframe-by-column-name\n",
    "columns = ['project_essay_1', 'project_essay_2', 'project_essay_3', 'project_essay_4']\n",
    "project_data.drop(columns, axis=1, inplace=True)"
   ]
  },
  {
   "cell_type": "code",
   "execution_count": null,
   "metadata": {},
   "outputs": [],
   "source": [
    "y = project_data['project_is_approved'].values\n",
    "project_data.drop(['project_is_approved'], axis=1, inplace=True)\n",
    "X = project_data"
   ]
  },
  {
   "cell_type": "code",
   "execution_count": null,
   "metadata": {},
   "outputs": [],
   "source": [
    "X.head(2)"
   ]
  },
  {
   "cell_type": "markdown",
   "metadata": {},
   "source": [
    "### 1. 4. Preprocessing of Project Grade Category.\n",
    "\n",
    "<a id='prepgc'></a>"
   ]
  },
  {
   "cell_type": "code",
   "execution_count": null,
   "metadata": {},
   "outputs": [],
   "source": [
    "#As you can see we have four categories.\n",
    "#While vectorizing this we get 'grades' separately. That is,\n",
    "#Prek-2, 3-5, 6-8, 9-12, Grades -> We get 5 categories which is wrong. Hence rectifying it\n",
    "\n",
    "X['project_grade_category'].value_counts()"
   ]
  },
  {
   "cell_type": "code",
   "execution_count": null,
   "metadata": {},
   "outputs": [],
   "source": [
    "#We will replace the value of Grades Prek-2 with Grades-Prek-2\n",
    "#And subsequently for other categories.\n",
    "\n",
    "grade = X['project_grade_category']"
   ]
  },
  {
   "cell_type": "code",
   "execution_count": null,
   "metadata": {},
   "outputs": [],
   "source": [
    "#Citation\n",
    "#url: https://pandas.pydata.org/pandas-docs/stable/reference/api/pandas.DataFrame.replace.html\n",
    "\n",
    "grade.replace('Grades PreK-2', 'Grades-PreK-2', inplace=True)\n",
    "grade.replace('Grades 3-5', 'Grades-3-5', inplace=True)\n",
    "grade.replace('Grades 6-8', 'Grades-6-8', inplace=True)\n",
    "grade.replace('Grades 9-12', 'Grades-9-12', inplace=True)"
   ]
  },
  {
   "cell_type": "code",
   "execution_count": null,
   "metadata": {},
   "outputs": [],
   "source": [
    "#Assigning new grades with to the column\n",
    "grade.head()"
   ]
  },
  {
   "cell_type": "code",
   "execution_count": null,
   "metadata": {},
   "outputs": [],
   "source": [
    "X['project_grade_category'] = grade"
   ]
  },
  {
   "cell_type": "markdown",
   "metadata": {},
   "source": [
    "### 1. 5. Counting the number of words for project_title for SET-5\n",
    "\n",
    "<a id='countit'></a>"
   ]
  },
  {
   "cell_type": "code",
   "execution_count": null,
   "metadata": {},
   "outputs": [],
   "source": [
    "#Counting the number of words in project_title for SET-5\n",
    "\n",
    "#Citation: calculate number of words in text dataframe\n",
    "#url: https://stackoverflow.com/questions/49984905/count-number-of-words-per-row\n",
    "X['totalwords_title'] = X['project_title'].str.split().str.len()"
   ]
  },
  {
   "cell_type": "markdown",
   "metadata": {},
   "source": [
    "### 1. 6. Counting the number of words for project_essay for SET-5\n",
    "\n",
    "<a id='countess'></a>"
   ]
  },
  {
   "cell_type": "code",
   "execution_count": null,
   "metadata": {},
   "outputs": [],
   "source": [
    "#Counting the number of words in essay for SET-5\n",
    "\n",
    "#Citation: calculate number of words in text dataframe\n",
    "#url: https://stackoverflow.com/questions/49984905/count-number-of-words-per-row\n",
    "X['totalwords_essay'] = X['essay'].str.split().str.len()"
   ]
  },
  {
   "cell_type": "markdown",
   "metadata": {},
   "source": [
    "### 1. 7. Computing Sentiment Score of each essay for SET-5\n",
    "\n",
    "<a id='ss'></a>"
   ]
  },
  {
   "cell_type": "code",
   "execution_count": null,
   "metadata": {},
   "outputs": [],
   "source": [
    "#Citation: store sentiment score in dataframe\n",
    "#https://stackoverflow.com/questions/46764674/sentiment-analysis-on-dataframe\n",
    "import warnings\n",
    "warnings.filterwarnings('ignore')\n",
    "\n",
    "import nltk\n",
    "from nltk.sentiment.vader import SentimentIntensityAnalyzer\n",
    "\n",
    "sid = SentimentIntensityAnalyzer()\n",
    "\n",
    "abc = X['essay'].apply(lambda Text: sid.polarity_scores(Text))\n",
    "\n",
    "# we can use these 4 things as features/attributes (neg, neu, pos, compound)\n",
    "# neg: 0.0, neu: 0.753, pos: 0.247, compound: 0.93"
   ]
  },
  {
   "cell_type": "code",
   "execution_count": null,
   "metadata": {},
   "outputs": [],
   "source": [
    "#We can see that it returns a dictionary (key-value pairs). Therefore we will convert Series to dict \n",
    "type(abc)"
   ]
  },
  {
   "cell_type": "code",
   "execution_count": null,
   "metadata": {},
   "outputs": [],
   "source": [
    "final = abc.to_dict()"
   ]
  },
  {
   "cell_type": "code",
   "execution_count": null,
   "metadata": {},
   "outputs": [],
   "source": [
    "#What we have here is a Series, converting series to Pandas dataframe using from_dict() method\n",
    "type(final)"
   ]
  },
  {
   "cell_type": "code",
   "execution_count": null,
   "metadata": {},
   "outputs": [],
   "source": [
    "final2 = pd.DataFrame.from_dict(final)"
   ]
  },
  {
   "cell_type": "code",
   "execution_count": null,
   "metadata": {},
   "outputs": [],
   "source": [
    "#We will need to transpose the DataFrame to get negative, positive etc values in the column region.\n",
    "final2.head()"
   ]
  },
  {
   "cell_type": "code",
   "execution_count": null,
   "metadata": {},
   "outputs": [],
   "source": [
    "final2 = final2.T"
   ]
  },
  {
   "cell_type": "code",
   "execution_count": null,
   "metadata": {},
   "outputs": [],
   "source": [
    "#This is the proper DataFrame.\n",
    "final2.head()"
   ]
  },
  {
   "cell_type": "code",
   "execution_count": null,
   "metadata": {},
   "outputs": [],
   "source": [
    "#Adding these values to our mail Dataframe.\n",
    "X['Compound Score'] = final2['compound']\n",
    "X['Negative Score'] = final2['neg']\n",
    "X['Neutral Score'] = final2['neu']\n",
    "X['Positive Score'] = final2['pos']"
   ]
  },
  {
   "cell_type": "code",
   "execution_count": null,
   "metadata": {},
   "outputs": [],
   "source": [
    "#Final dataframe\n",
    "X.head()"
   ]
  },
  {
   "cell_type": "markdown",
   "metadata": {},
   "source": [
    "# 2. Splitting the Data\n",
    "\n",
    "<a id='split'></a>"
   ]
  },
  {
   "cell_type": "code",
   "execution_count": 40,
   "metadata": {},
   "outputs": [],
   "source": [
    "# train test split before vectorizing or performing any feature engineering techniques\n",
    "#as doing it before leads to data leakage.\n",
    "from sklearn.model_selection import train_test_split\n",
    "X_train, X_test, y_train, y_test = train_test_split(X, y, test_size=0.33, stratify=y)\n",
    "X_train, X_cv, y_train, y_cv = train_test_split(X_train, y_train, test_size=0.33, stratify=y_train)"
   ]
  },
  {
   "cell_type": "markdown",
   "metadata": {},
   "source": [
    "# 3. Creating Data Matrix using Feature Engineering Techniques.\n",
    "\n",
    "<a id='feat'></a>"
   ]
  },
  {
   "cell_type": "markdown",
   "metadata": {},
   "source": [
    "### 3.1 Bag Of Words Encoding\n",
    "\n",
    "<a id='bow'></a>"
   ]
  },
  {
   "cell_type": "code",
   "execution_count": 41,
   "metadata": {},
   "outputs": [
    {
     "name": "stdout",
     "output_type": "stream",
     "text": [
      "(49041, 21) (49041,)\n",
      "(24155, 21) (24155,)\n",
      "(36052, 21) (36052,)\n",
      "====================================================================================================\n",
      "After vectorizations\n",
      "(49041, 5000) (49041,)\n",
      "(24155, 5000) (24155,)\n",
      "(36052, 5000) (36052,)\n",
      "Wall time: 1min 53s\n"
     ]
    }
   ],
   "source": [
    "%%time\n",
    "#BoW for essay.\n",
    "print(X_train.shape, y_train.shape)\n",
    "print(X_cv.shape, y_cv.shape)\n",
    "print(X_test.shape, y_test.shape)\n",
    "\n",
    "print(\"=\"*100)\n",
    "\n",
    "from sklearn.feature_extraction.text import CountVectorizer\n",
    "\n",
    "#As stated in the assignment\n",
    "#I have taken min_df=10\n",
    "#Bi-gram: That is, ngram_range=(1,2) and max features=5000\n",
    "vectorizer_essay = CountVectorizer(min_df=10,ngram_range=(1,2), max_features=5000)\n",
    "vectorizer_essay.fit(X_train['essay'].values) # fit has to happen only on train data\n",
    "\n",
    "# we use the fitted CountVectorizer to convert the text to vector\n",
    "X_train_essay_bow = vectorizer_essay.transform(X_train['essay'].values)\n",
    "X_cv_essay_bow = vectorizer_essay.transform(X_cv['essay'].values)\n",
    "X_test_essay_bow = vectorizer_essay.transform(X_test['essay'].values)\n",
    "\n",
    "print(\"After vectorizations\")\n",
    "print(X_train_essay_bow.shape, y_train.shape)\n",
    "print(X_cv_essay_bow.shape, y_cv.shape)\n",
    "print(X_test_essay_bow.shape, y_test.shape)"
   ]
  },
  {
   "cell_type": "code",
   "execution_count": 42,
   "metadata": {},
   "outputs": [
    {
     "name": "stdout",
     "output_type": "stream",
     "text": [
      "(49041, 21) (49041,)\n",
      "(24155, 21) (24155,)\n",
      "(36052, 21) (36052,)\n",
      "====================================================================================================\n",
      "After vectorizations\n",
      "(49041, 3253) (49041,)\n",
      "(24155, 3253) (24155,)\n",
      "(36052, 3253) (36052,)\n",
      "Wall time: 5.87 s\n"
     ]
    }
   ],
   "source": [
    "%%time\n",
    "#BoW for project-title.\n",
    "print(X_train.shape, y_train.shape)\n",
    "print(X_cv.shape, y_cv.shape)\n",
    "print(X_test.shape, y_test.shape)\n",
    "\n",
    "print(\"=\"*100)\n",
    "\n",
    "from sklearn.feature_extraction.text import CountVectorizer\n",
    "\n",
    "#As stated in the assignment\n",
    "#I have taken min_df=10\n",
    "#Bi-gram: That is, ngram_range=(1,2) and max features=5000\n",
    "vectorizer_title = CountVectorizer(min_df=10,ngram_range=(1,2), max_features=5000)\n",
    "vectorizer_title.fit(X_train['project_title'].values) # fit has to happen only on train data\n",
    "\n",
    "# we use the fitted CountVectorizer to convert the text to vector\n",
    "X_train_title_bow = vectorizer_title.transform(X_train['project_title'].values)\n",
    "X_cv_title_bow = vectorizer_title.transform(X_cv['project_title'].values)\n",
    "X_test_title_bow = vectorizer_title.transform(X_test['project_title'].values)\n",
    "\n",
    "print(\"After vectorizations\")\n",
    "print(X_train_title_bow.shape, y_train.shape)\n",
    "print(X_cv_title_bow.shape, y_cv.shape)\n",
    "print(X_test_title_bow.shape, y_test.shape)"
   ]
  },
  {
   "cell_type": "code",
   "execution_count": 43,
   "metadata": {},
   "outputs": [
    {
     "name": "stdout",
     "output_type": "stream",
     "text": [
      "(49041, 21) (49041,)\n",
      "(24155, 21) (24155,)\n",
      "(36052, 21) (36052,)\n",
      "====================================================================================================\n",
      "After vectorizations\n",
      "(49041, 5000) (49041,)\n",
      "(24155, 5000) (24155,)\n",
      "(36052, 5000) (36052,)\n"
     ]
    }
   ],
   "source": [
    "#BoW for project-resource-summary\n",
    "print(X_train.shape, y_train.shape)\n",
    "print(X_cv.shape, y_cv.shape)\n",
    "print(X_test.shape, y_test.shape)\n",
    "\n",
    "print(\"=\"*100)\n",
    "\n",
    "from sklearn.feature_extraction.text import CountVectorizer\n",
    "\n",
    "#As stated in the assignment\n",
    "#I have taken min_df=10\n",
    "#Bi-gram: That is, ngram_range=(1,2) and max features=5000\n",
    "\n",
    "vectorizer_resum = CountVectorizer(min_df=10,ngram_range=(1,2), max_features=5000)\n",
    "vectorizer_resum.fit(X_train['project_resource_summary'].values) # fit has to happen only on train data\n",
    "\n",
    "# we use the fitted CountVectorizer to convert the text to vector\n",
    "X_train_resum_bow = vectorizer_resum.transform(X_train['project_resource_summary'].values)\n",
    "X_cv_resum_bow = vectorizer_resum.transform(X_cv['project_resource_summary'].values)\n",
    "X_test_resum_bow = vectorizer_resum.transform(X_test['project_resource_summary'].values)\n",
    "\n",
    "print(\"After vectorizations\")\n",
    "print(X_train_resum_bow.shape, y_train.shape)\n",
    "print(X_cv_resum_bow.shape, y_cv.shape)\n",
    "print(X_test_resum_bow.shape, y_test.shape)"
   ]
  },
  {
   "cell_type": "markdown",
   "metadata": {},
   "source": [
    "### 3.2 TF-IDF Encoding\n",
    "\n",
    "<a id='tfidf'></a>"
   ]
  },
  {
   "cell_type": "code",
   "execution_count": 64,
   "metadata": {},
   "outputs": [
    {
     "name": "stdout",
     "output_type": "stream",
     "text": [
      "After vectorizations\n",
      "(49041, 5000) (49041,)\n",
      "(24155, 5000) (24155,)\n",
      "(36052, 5000) (36052,)\n"
     ]
    }
   ],
   "source": [
    "#TF-IDF Encoding on project essay\n",
    "from sklearn.feature_extraction.text import TfidfVectorizer\n",
    "\n",
    "#As stated in the assignment\n",
    "#I have taken min_df=10\n",
    "#Bi-gram: That is, ngram_range=(1,2) and max features=5000\n",
    "\n",
    "vectorizer_essay_tfidf = TfidfVectorizer(min_df=10, ngram_range=(1,2), max_features=5000)\n",
    "vectorizer_essay_tfidf.fit(X_train['essay'].values) # fit has to happen only on train data\n",
    "\n",
    "# we use the fitted CountVectorizer to convert the text to vector\n",
    "X_train_essay_tfidf = vectorizer_essay_tfidf.transform(X_train['essay'].values)\n",
    "X_cv_essay_tfidf = vectorizer_essay_tfidf.transform(X_cv['essay'].values)\n",
    "X_test_essay_tfidf = vectorizer_essay_tfidf.transform(X_test['essay'].values)\n",
    "\n",
    "print(\"After vectorizations\")\n",
    "print(X_train_essay_tfidf.shape, y_train.shape)\n",
    "print(X_cv_essay_tfidf.shape, y_cv.shape)\n",
    "print(X_test_essay_tfidf.shape, y_test.shape)"
   ]
  },
  {
   "cell_type": "code",
   "execution_count": 65,
   "metadata": {},
   "outputs": [
    {
     "name": "stdout",
     "output_type": "stream",
     "text": [
      "After vectorizations\n",
      "(49041, 3253) (49041,)\n",
      "(24155, 3253) (24155,)\n",
      "(36052, 3253) (36052,)\n"
     ]
    }
   ],
   "source": [
    "#TF-IDF Encoding on project title\n",
    "from sklearn.feature_extraction.text import TfidfVectorizer\n",
    "\n",
    "#As stated in the assignment\n",
    "#I have taken min_df=10\n",
    "#Bi-gram: That is, ngram_range=(1,2) and max features=5000\n",
    "\n",
    "vectorizer_title_tfidf = CountVectorizer(min_df=10,ngram_range=(1,2), max_features=5000)\n",
    "vectorizer_title_tfidf.fit(X_train['project_title'].values) # fit has to happen only on train data\n",
    "\n",
    "# we use the fitted CountVectorizer to convert the text to vector\n",
    "X_train_title_tfidf = vectorizer_title_tfidf.transform(X_train['project_title'].values)\n",
    "X_cv_title_tfidf = vectorizer_title_tfidf.transform(X_cv['project_title'].values)\n",
    "X_test_title_tfidf = vectorizer_title_tfidf.transform(X_test['project_title'].values)\n",
    "\n",
    "print(\"After vectorizations\")\n",
    "print(X_train_title_tfidf.shape, y_train.shape)\n",
    "print(X_cv_title_tfidf.shape, y_cv.shape)\n",
    "print(X_test_title_tfidf.shape, y_test.shape)"
   ]
  },
  {
   "cell_type": "code",
   "execution_count": 66,
   "metadata": {},
   "outputs": [
    {
     "name": "stdout",
     "output_type": "stream",
     "text": [
      "After vectorizations\n",
      "(49041, 3253) (49041,)\n",
      "(24155, 3253) (24155,)\n",
      "(36052, 3253) (36052,)\n"
     ]
    }
   ],
   "source": [
    "#TF-IDF Encoding on project res summary\n",
    "\n",
    "from sklearn.feature_extraction.text import TfidfVectorizer\n",
    "\n",
    "#As stated in the assignment\n",
    "#I have taken min_df=10\n",
    "#Bi-gram: That is, ngram_range=(1,2) and max features=5000\n",
    "\n",
    "vectorizer_resum_tfidf = CountVectorizer(min_df=10,ngram_range=(1,2), max_features=5000)\n",
    "vectorizer_resum_tfidf.fit(X_train['project_resource_summary'].values) # fit has to happen only on train data\n",
    "\n",
    "# we use the fitted CountVectorizer to convert the text to vector\n",
    "X_train_resum_tfidf = vectorizer_title_tfidf.transform(X_train['project_resource_summary'].values)\n",
    "X_cv_resum_tfidf = vectorizer_title_tfidf.transform(X_cv['project_resource_summary'].values)\n",
    "X_test_resum_tfidf = vectorizer_title_tfidf.transform(X_test['project_resource_summary'].values)\n",
    "\n",
    "print(\"After vectorizations\")\n",
    "print(X_train_resum_tfidf.shape, y_train.shape)\n",
    "print(X_cv_resum_tfidf.shape, y_cv.shape)\n",
    "print(X_test_resum_tfidf.shape, y_test.shape)"
   ]
  },
  {
   "cell_type": "markdown",
   "metadata": {},
   "source": [
    "### 3.3 AVG W2V Encoding\n",
    "\n",
    "<a id='avgw2v'></a>"
   ]
  },
  {
   "cell_type": "code",
   "execution_count": 71,
   "metadata": {},
   "outputs": [
    {
     "name": "stderr",
     "output_type": "stream",
     "text": [
      "100%|██████████| 49041/49041 [00:37<00:00, 1291.15it/s]\n"
     ]
    },
    {
     "name": "stdout",
     "output_type": "stream",
     "text": [
      "Train Vector for essay\n",
      "49041\n",
      "300\n"
     ]
    },
    {
     "name": "stderr",
     "output_type": "stream",
     "text": [
      "100%|██████████| 36052/36052 [00:27<00:00, 1315.87it/s]\n"
     ]
    },
    {
     "name": "stdout",
     "output_type": "stream",
     "text": [
      "Test Vector for essay\n",
      "36052\n",
      "300\n"
     ]
    },
    {
     "name": "stderr",
     "output_type": "stream",
     "text": [
      "100%|██████████| 24155/24155 [00:18<00:00, 1335.18it/s]\n"
     ]
    },
    {
     "name": "stdout",
     "output_type": "stream",
     "text": [
      "CV vector for essay\n",
      "24155\n",
      "300\n"
     ]
    }
   ],
   "source": [
    "#ON PRE-PROCESSED ESSAY\n",
    "# stronging variables into pickle files python: http://www.jessicayung.com/how-to-use-pickle-to-save-and-load-variables-in-python/\n",
    "# make sure you have the glove_vectors file\n",
    "with open('glove_vectors', 'rb') as f:\n",
    "    model = pickle.load(f)\n",
    "    glove_words =  set(model.keys())\n",
    "    \n",
    "#Train part of preprocessed essays.\n",
    "train_w2v_vectors_essays = []; # the avg-w2v for each essay is stored in this list\n",
    "for sentence in tqdm(X_train['essay'].values): # for each essay in training data\n",
    "    vector = np.zeros(300) # as word vectors are of zero length\n",
    "    cnt_words =0; # num of words with a valid vector in the essay\n",
    "    for word in sentence.split(): # for each word in a essay\n",
    "        if word in glove_words:\n",
    "            vector += model[word]\n",
    "            cnt_words += 1\n",
    "    if cnt_words != 0:\n",
    "        vector /= cnt_words\n",
    "    train_w2v_vectors_essays.append(vector)\n",
    "print(\"Train Vector for essay\")\n",
    "print(len(train_w2v_vectors_essays))\n",
    "print(len(train_w2v_vectors_essays[0]))\n",
    "\n",
    "#Test part of preprocessed essays.\n",
    "# average Word2Vec\n",
    "# compute average word2vec for each review.\n",
    "test_w2v_vectors_essays = []; # the avg-w2v for each essay is stored in this list\n",
    "for sentence in tqdm(X_test['essay'].values): # for each essay in training data\n",
    "    vector = np.zeros(300) # as word vectors are of zero length\n",
    "    cnt_words =0; # num of words with a valid vector in the essay\n",
    "    for word in sentence.split(): # for each word in a essay\n",
    "        if word in glove_words:\n",
    "            vector += model[word]\n",
    "            cnt_words += 1\n",
    "    if cnt_words != 0:\n",
    "        vector /= cnt_words\n",
    "    test_w2v_vectors_essays.append(vector)\n",
    "\n",
    "print(\"Test Vector for essay\")\n",
    "print(len(test_w2v_vectors_essays))\n",
    "print(len(test_w2v_vectors_essays[0]))\n",
    "\n",
    "#CV part of preprocessed essays.\n",
    "# average Word2Vec\n",
    "# compute average word2vec for each review.\n",
    "cv_w2v_vectors_essays = []; # the avg-w2v for each essay is stored in this list\n",
    "for sentence in tqdm(X_cv['essay'].values): # for each essay in training data\n",
    "    vector = np.zeros(300) # as word vectors are of zero length\n",
    "    cnt_words =0; # num of words with a valid vector in the essay\n",
    "    for word in sentence.split(): # for each word in a essay\n",
    "        if word in glove_words:\n",
    "            vector += model[word]\n",
    "            cnt_words += 1\n",
    "    if cnt_words != 0:\n",
    "        vector /= cnt_words\n",
    "    cv_w2v_vectors_essays.append(vector)\n",
    "\n",
    "print(\"CV vector for essay\")\n",
    "print(len(cv_w2v_vectors_essays))\n",
    "print(len(cv_w2v_vectors_essays[0]))\n",
    "\n",
    "# Changing the lists (Train, Test, CV) to numpy arrays\n",
    "train_w2v_vectors_essays = np.array(train_w2v_vectors_essays)\n",
    "test_w2v_vectors_essays = np.array(test_w2v_vectors_essays)\n",
    "cv_w2v_vectors_essays = np.array(cv_w2v_vectors_essays)"
   ]
  },
  {
   "cell_type": "code",
   "execution_count": 72,
   "metadata": {},
   "outputs": [
    {
     "name": "stderr",
     "output_type": "stream",
     "text": [
      "100%|██████████| 49041/49041 [00:01<00:00, 27725.09it/s]\n"
     ]
    },
    {
     "name": "stdout",
     "output_type": "stream",
     "text": [
      "Train Vector for project title\n",
      "49041\n",
      "300\n"
     ]
    },
    {
     "name": "stderr",
     "output_type": "stream",
     "text": [
      "100%|██████████| 36052/36052 [00:01<00:00, 26063.85it/s]\n"
     ]
    },
    {
     "name": "stdout",
     "output_type": "stream",
     "text": [
      "Test Vector for project title\n",
      "36052\n",
      "300\n"
     ]
    },
    {
     "name": "stderr",
     "output_type": "stream",
     "text": [
      "100%|██████████| 24155/24155 [00:00<00:00, 24990.64it/s]\n"
     ]
    },
    {
     "name": "stdout",
     "output_type": "stream",
     "text": [
      "CV Vector for project title\n",
      "24155\n",
      "300\n"
     ]
    }
   ],
   "source": [
    "#Following the same process for preprocessed titles.\n",
    "# average Word2Vec\n",
    "# compute average word2vec for each review.\n",
    "w2v_train_vectors_titles = []; # the avg-w2v for each essay is stored in this list\n",
    "for sentence in tqdm(X_train['project_title'].values): # for each essay in training data\n",
    "    vector = np.zeros(300) # as word vectors are of zero length\n",
    "    cnt_words =0; # num of words with a valid vector in the essay\n",
    "    for word in sentence.split(): # for each word in a essay\n",
    "        if word in glove_words:\n",
    "            vector += model[word]\n",
    "            cnt_words += 1\n",
    "    if cnt_words != 0:\n",
    "        vector /= cnt_words\n",
    "    w2v_train_vectors_titles.append(vector)\n",
    "print(\"Train Vector for project title\")\n",
    "print(len(w2v_train_vectors_titles))\n",
    "print(len(w2v_train_vectors_titles[0]))\n",
    "\n",
    "# average Word2Vec\n",
    "# compute average word2vec for each review.\n",
    "w2v_test_vectors_titles = []; # the avg-w2v for each essay is stored in this list\n",
    "for sentence in tqdm(X_test['project_title'].values): # for each essay in training data\n",
    "    vector = np.zeros(300) # as word vectors are of zero length\n",
    "    cnt_words =0; # num of words with a valid vector in the essay\n",
    "    for word in sentence.split(): # for each word in a essay\n",
    "        if word in glove_words:\n",
    "            vector += model[word]\n",
    "            cnt_words += 1\n",
    "    if cnt_words != 0:\n",
    "        vector /= cnt_words\n",
    "    w2v_test_vectors_titles.append(vector)\n",
    "\n",
    "print(\"Test Vector for project title\")\n",
    "print(len(w2v_test_vectors_titles))\n",
    "print(len(w2v_test_vectors_titles[0]))\n",
    "\n",
    "# average Word2Vec\n",
    "# compute average word2vec for each review.\n",
    "w2v_cv_vectors_titles = []; # the avg-w2v for each essay is stored in this list\n",
    "for sentence in tqdm(X_cv['project_title'].values): # for each essay in training data\n",
    "    vector = np.zeros(300) # as word vectors are of zero length\n",
    "    cnt_words =0; # num of words with a valid vector in the essay\n",
    "    for word in sentence.split(): # for each word in a essay\n",
    "        if word in glove_words:\n",
    "            vector += model[word]\n",
    "            cnt_words += 1\n",
    "    if cnt_words != 0:\n",
    "        vector /= cnt_words\n",
    "    w2v_cv_vectors_titles.append(vector)\n",
    "\n",
    "print(\"CV Vector for project title\")\n",
    "print(len(w2v_cv_vectors_titles))\n",
    "print(len(w2v_cv_vectors_titles[0]))"
   ]
  },
  {
   "cell_type": "code",
   "execution_count": 73,
   "metadata": {},
   "outputs": [],
   "source": [
    "# Changing the lists (Train, Test, CV) to numpy arrays\n",
    "w2v_train_vectors_titles = np.array(w2v_train_vectors_titles)\n",
    "w2v_test_vectors_titles = np.array(w2v_test_vectors_titles)\n",
    "w2v_cv_vectors_titles = np.array(w2v_cv_vectors_titles)"
   ]
  },
  {
   "cell_type": "code",
   "execution_count": 74,
   "metadata": {},
   "outputs": [
    {
     "name": "stderr",
     "output_type": "stream",
     "text": [
      "100%|██████████| 49041/49041 [00:05<00:00, 9231.65it/s] \n"
     ]
    },
    {
     "name": "stdout",
     "output_type": "stream",
     "text": [
      "Train Vector for project resource summary\n",
      "49041\n",
      "300\n"
     ]
    },
    {
     "name": "stderr",
     "output_type": "stream",
     "text": [
      "100%|██████████| 36052/36052 [00:03<00:00, 10307.86it/s]\n"
     ]
    },
    {
     "name": "stdout",
     "output_type": "stream",
     "text": [
      "Test Vector for project resource summary\n",
      "36052\n",
      "300\n"
     ]
    },
    {
     "name": "stderr",
     "output_type": "stream",
     "text": [
      "100%|██████████| 24155/24155 [00:02<00:00, 10245.17it/s]\n"
     ]
    },
    {
     "name": "stdout",
     "output_type": "stream",
     "text": [
      "CV Vector for project resource summary\n",
      "24155\n",
      "300\n"
     ]
    }
   ],
   "source": [
    "#Following the same process for project resource summary.\n",
    "# average Word2Vec\n",
    "# compute average word2vec for each review.\n",
    "w2v_train_vectors_resum = []; # the avg-w2v for each essay is stored in this list\n",
    "for sentence in tqdm(X_train['project_resource_summary'].values): # for each essay in training data\n",
    "    vector = np.zeros(300) # as word vectors are of zero length\n",
    "    cnt_words =0; # num of words with a valid vector in the essay\n",
    "    for word in sentence.split(): # for each word in a essay\n",
    "        if word in glove_words:\n",
    "            vector += model[word]\n",
    "            cnt_words += 1\n",
    "    if cnt_words != 0:\n",
    "        vector /= cnt_words\n",
    "    w2v_train_vectors_resum.append(vector)\n",
    "print(\"Train Vector for project resource summary\")\n",
    "print(len(w2v_train_vectors_resum))\n",
    "print(len(w2v_train_vectors_resum[0]))\n",
    "\n",
    "# average Word2Vec\n",
    "# compute average word2vec for each review.\n",
    "w2v_test_vectors_resum = []; # the avg-w2v for each essay is stored in this list\n",
    "for sentence in tqdm(X_test['project_resource_summary'].values): # for each essay in training data\n",
    "    vector = np.zeros(300) # as word vectors are of zero length\n",
    "    cnt_words =0; # num of words with a valid vector in the essay\n",
    "    for word in sentence.split(): # for each word in a essay\n",
    "        if word in glove_words:\n",
    "            vector += model[word]\n",
    "            cnt_words += 1\n",
    "    if cnt_words != 0:\n",
    "        vector /= cnt_words\n",
    "    w2v_test_vectors_resum.append(vector)\n",
    "\n",
    "print(\"Test Vector for project resource summary\")\n",
    "print(len(w2v_test_vectors_resum))\n",
    "print(len(w2v_test_vectors_resum[0]))\n",
    "\n",
    "# average Word2Vec\n",
    "# compute average word2vec for each review.\n",
    "w2v_cv_vectors_resum = []; # the avg-w2v for each essay is stored in this list\n",
    "for sentence in tqdm(X_cv['project_resource_summary'].values): # for each essay in training data\n",
    "    vector = np.zeros(300) # as word vectors are of zero length\n",
    "    cnt_words =0; # num of words with a valid vector in the essay\n",
    "    for word in sentence.split(): # for each word in a essay\n",
    "        if word in glove_words:\n",
    "            vector += model[word]\n",
    "            cnt_words += 1\n",
    "    if cnt_words != 0:\n",
    "        vector /= cnt_words\n",
    "    w2v_cv_vectors_resum.append(vector)\n",
    "\n",
    "print(\"CV Vector for project resource summary\")\n",
    "print(len(w2v_cv_vectors_resum))\n",
    "print(len(w2v_cv_vectors_resum[0]))"
   ]
  },
  {
   "cell_type": "code",
   "execution_count": 75,
   "metadata": {},
   "outputs": [],
   "source": [
    "# Changing the lists (Train, Test, CV) to numpy arrays\n",
    "w2v_train_vectors_resum = np.array(w2v_train_vectors_resum)\n",
    "w2v_test_vectors_resum = np.array(w2v_test_vectors_resum)\n",
    "w2v_cv_vectors_resum = np.array(w2v_cv_vectors_resum)"
   ]
  },
  {
   "cell_type": "markdown",
   "metadata": {},
   "source": [
    "### 3.4 TFIDF AVG W2V Encoding\n",
    "\n",
    "<a id='tfidfavgw2v'></a>"
   ]
  },
  {
   "cell_type": "code",
   "execution_count": 84,
   "metadata": {},
   "outputs": [],
   "source": [
    "tfidf_model = TfidfVectorizer()\n",
    "tfidf_model.fit(preprocessed_essays)\n",
    "\n",
    "# we are converting a dictionary with word as a key, and the idf as a value\n",
    "dictionary = dict(zip(tfidf_model.get_feature_names(), list(tfidf_model.idf_)))\n",
    "tfidf_words = set(tfidf_model.get_feature_names())"
   ]
  },
  {
   "cell_type": "code",
   "execution_count": 85,
   "metadata": {},
   "outputs": [
    {
     "name": "stderr",
     "output_type": "stream",
     "text": [
      "100%|██████████| 49041/49041 [04:20<00:00, 188.57it/s]\n"
     ]
    },
    {
     "name": "stdout",
     "output_type": "stream",
     "text": [
      "49041\n",
      "300\n"
     ]
    },
    {
     "name": "stderr",
     "output_type": "stream",
     "text": [
      "100%|██████████| 24155/24155 [01:57<00:00, 206.36it/s]\n"
     ]
    },
    {
     "name": "stdout",
     "output_type": "stream",
     "text": [
      "24155\n",
      "300\n"
     ]
    },
    {
     "name": "stderr",
     "output_type": "stream",
     "text": [
      "100%|██████████| 36052/36052 [02:59<00:00, 200.85it/s]\n"
     ]
    },
    {
     "name": "stdout",
     "output_type": "stream",
     "text": [
      "36052\n",
      "300\n"
     ]
    }
   ],
   "source": [
    "#ON PRE-PROCESSED ESSAY\n",
    "# stronging variables into pickle files python: http://www.jessicayung.com/how-to-use-pickle-to-save-and-load-variables-in-python/\n",
    "# make sure you have the glove_vectors file\n",
    "with open('glove_vectors', 'rb') as f:\n",
    "    model = pickle.load(f)\n",
    "    glove_words =  set(model.keys())\n",
    "\n",
    "train_tfidf_w2v_essay = []; # the avg-w2v for each sentence/review is stored in this list\n",
    "for sentence in tqdm(X_train['essay']): # for each review/sentence\n",
    "    vector = np.zeros(300) # as word vectors are of zero length\n",
    "    tf_idf_weight =0; # num of words with a valid vector in the sentence/review\n",
    "    for word in sentence.split(): # for each word in a review/sentence\n",
    "        if (word in glove_words) and (word in tfidf_words):\n",
    "            vec = model[word] # getting the vector for each word\n",
    "            # here we are multiplying idf value(dictionary[word]) and the tf value((sentence.count(word)/len(sentence.split())))\n",
    "            tf_idf = dictionary[word]*(sentence.count(word)/len(sentence.split())) # getting the tfidf value for each word\n",
    "            vector += (vec * tf_idf) # calculating tfidf weighted w2v\n",
    "            tf_idf_weight += tf_idf\n",
    "    if tf_idf_weight != 0:\n",
    "        vector /= tf_idf_weight\n",
    "    train_tfidf_w2v_essay.append(vector)\n",
    "\n",
    "print(len(train_tfidf_w2v_essay))\n",
    "print(len(train_tfidf_w2v_essay[0]))\n",
    "\n",
    "cv_tfidf_w2v_essay = []; # the avg-w2v for each sentence/review is stored in this list\n",
    "for sentence in tqdm(X_cv['essay']): # for each review/sentence\n",
    "    vector = np.zeros(300) # as word vectors are of zero length\n",
    "    tf_idf_weight =0; # num of words with a valid vector in the sentence/review\n",
    "    for word in sentence.split(): # for each word in a review/sentence\n",
    "        if (word in glove_words) and (word in tfidf_words):\n",
    "            vec = model[word] # getting the vector for each word\n",
    "            # here we are multiplying idf value(dictionary[word]) and the tf value((sentence.count(word)/len(sentence.split())))\n",
    "            tf_idf = dictionary[word]*(sentence.count(word)/len(sentence.split())) # getting the tfidf value for each word\n",
    "            vector += (vec * tf_idf) # calculating tfidf weighted w2v\n",
    "            tf_idf_weight += tf_idf\n",
    "    if tf_idf_weight != 0:\n",
    "        vector /= tf_idf_weight\n",
    "    cv_tfidf_w2v_essay.append(vector)\n",
    "\n",
    "print(len(cv_tfidf_w2v_essay))\n",
    "print(len(cv_tfidf_w2v_essay[0]))\n",
    "\n",
    "test_tfidf_w2v_essay = []; # the avg-w2v for each sentence/review is stored in this list\n",
    "for sentence in tqdm(X_test['essay']): # for each review/sentence\n",
    "    vector = np.zeros(300) # as word vectors are of zero length\n",
    "    tf_idf_weight =0; # num of words with a valid vector in the sentence/review\n",
    "    for word in sentence.split(): # for each word in a review/sentence\n",
    "        if (word in glove_words) and (word in tfidf_words):\n",
    "            vec = model[word] # getting the vector for each word\n",
    "            # here we are multiplying idf value(dictionary[word]) and the tf value((sentence.count(word)/len(sentence.split())))\n",
    "            tf_idf = dictionary[word]*(sentence.count(word)/len(sentence.split())) # getting the tfidf value for each word\n",
    "            vector += (vec * tf_idf) # calculating tfidf weighted w2v\n",
    "            tf_idf_weight += tf_idf\n",
    "    if tf_idf_weight != 0:\n",
    "        vector /= tf_idf_weight\n",
    "    test_tfidf_w2v_essay.append(vector)\n",
    "\n",
    "print(len(test_tfidf_w2v_essay))\n",
    "print(len(test_tfidf_w2v_essay[0]))\n",
    "\n",
    "# Changing list to numpy arrays\n",
    "train_tfidf_w2v_essay = np.array(train_tfidf_w2v_essay)\n",
    "test_tfidf_w2v_essay = np.array(test_tfidf_w2v_essay)\n",
    "cv_tfidf_w2v_essay = np.array(cv_tfidf_w2v_essay)"
   ]
  },
  {
   "cell_type": "code",
   "execution_count": 86,
   "metadata": {},
   "outputs": [
    {
     "name": "stderr",
     "output_type": "stream",
     "text": [
      "100%|██████████| 49041/49041 [00:04<00:00, 11756.14it/s]\n"
     ]
    },
    {
     "name": "stdout",
     "output_type": "stream",
     "text": [
      "49041\n",
      "300\n"
     ]
    },
    {
     "name": "stderr",
     "output_type": "stream",
     "text": [
      "100%|██████████| 24155/24155 [00:02<00:00, 11492.19it/s]\n"
     ]
    },
    {
     "name": "stdout",
     "output_type": "stream",
     "text": [
      "24155\n",
      "300\n"
     ]
    },
    {
     "name": "stderr",
     "output_type": "stream",
     "text": [
      "100%|██████████| 36052/36052 [00:03<00:00, 9574.69it/s] \n"
     ]
    },
    {
     "name": "stdout",
     "output_type": "stream",
     "text": [
      "36052\n",
      "300\n"
     ]
    }
   ],
   "source": [
    "tfidf_model = TfidfVectorizer()\n",
    "tfidf_model.fit(preprocessed_title)\n",
    "\n",
    "# we are converting a dictionary with word as a key, and the idf as a value\n",
    "dictionary = dict(zip(tfidf_model.get_feature_names(), list(tfidf_model.idf_)))\n",
    "tfidf_words = set(tfidf_model.get_feature_names())\n",
    "\n",
    "#ON PREPROCESSED TITLE\n",
    "train_tfidf_w2v_title = []; # the avg-w2v for each sentence/review is stored in this list\n",
    "for sentence in tqdm(X_train['project_title']): # for each review/sentence\n",
    "    vector = np.zeros(300) # as word vectors are of zero length\n",
    "    tf_idf_weight =0; # num of words with a valid vector in the sentence/review\n",
    "    for word in sentence.split(): # for each word in a review/sentence\n",
    "        if (word in glove_words) and (word in tfidf_words):\n",
    "            vec = model[word] # getting the vector for each word\n",
    "            # here we are multiplying idf value(dictionary[word]) and the tf value((sentence.count(word)/len(sentence.split())))\n",
    "            tf_idf = dictionary[word]*(sentence.count(word)/len(sentence.split())) # getting the tfidf value for each word\n",
    "            vector += (vec * tf_idf) # calculating tfidf weighted w2v\n",
    "            tf_idf_weight += tf_idf\n",
    "    if tf_idf_weight != 0:\n",
    "        vector /= tf_idf_weight\n",
    "    train_tfidf_w2v_title.append(vector)\n",
    "\n",
    "print(len(train_tfidf_w2v_title))\n",
    "print(len(train_tfidf_w2v_title[0]))\n",
    "\n",
    "cv_tfidf_w2v_title = []; # the avg-w2v for each sentence/review is stored in this list\n",
    "for sentence in tqdm(X_cv['project_title']): # for each review/sentence\n",
    "    vector = np.zeros(300) # as word vectors are of zero length\n",
    "    tf_idf_weight =0; # num of words with a valid vector in the sentence/review\n",
    "    for word in sentence.split(): # for each word in a review/sentence\n",
    "        if (word in glove_words) and (word in tfidf_words):\n",
    "            vec = model[word] # getting the vector for each word\n",
    "            # here we are multiplying idf value(dictionary[word]) and the tf value((sentence.count(word)/len(sentence.split())))\n",
    "            tf_idf = dictionary[word]*(sentence.count(word)/len(sentence.split())) # getting the tfidf value for each word\n",
    "            vector += (vec * tf_idf) # calculating tfidf weighted w2v\n",
    "            tf_idf_weight += tf_idf\n",
    "    if tf_idf_weight != 0:\n",
    "        vector /= tf_idf_weight\n",
    "    cv_tfidf_w2v_title.append(vector)\n",
    "\n",
    "print(len(cv_tfidf_w2v_title))\n",
    "print(len(cv_tfidf_w2v_title[0]))\n",
    "\n",
    "test_tfidf_w2v_title = []; # the avg-w2v for each sentence/review is stored in this list\n",
    "for sentence in tqdm(X_test['project_title']): # for each review/sentence\n",
    "    vector = np.zeros(300) # as word vectors are of zero length\n",
    "    tf_idf_weight =0; # num of words with a valid vector in the sentence/review\n",
    "    for word in sentence.split(): # for each word in a review/sentence\n",
    "        if (word in glove_words) and (word in tfidf_words):\n",
    "            vec = model[word] # getting the vector for each word\n",
    "            # here we are multiplying idf value(dictionary[word]) and the tf value((sentence.count(word)/len(sentence.split())))\n",
    "            tf_idf = dictionary[word]*(sentence.count(word)/len(sentence.split())) # getting the tfidf value for each word\n",
    "            vector += (vec * tf_idf) # calculating tfidf weighted w2v\n",
    "            tf_idf_weight += tf_idf\n",
    "    if tf_idf_weight != 0:\n",
    "        vector /= tf_idf_weight\n",
    "    test_tfidf_w2v_title.append(vector)\n",
    "\n",
    "print(len(test_tfidf_w2v_title))\n",
    "print(len(test_tfidf_w2v_title[0]))\n",
    "\n",
    "# Changing list to numpy arrays\n",
    "train_tfidf_w2v_title = np.array(train_tfidf_w2v_title)\n",
    "test_tfidf_w2v_title = np.array(test_tfidf_w2v_title)\n",
    "cv_tfidf_w2v_title = np.array(cv_tfidf_w2v_title)"
   ]
  },
  {
   "cell_type": "code",
   "execution_count": 87,
   "metadata": {},
   "outputs": [
    {
     "data": {
      "text/plain": [
       "TfidfVectorizer(analyzer='word', binary=False, decode_error='strict',\n",
       "        dtype=<class 'numpy.int64'>, encoding='utf-8', input='content',\n",
       "        lowercase=True, max_df=1.0, max_features=None, min_df=1,\n",
       "        ngram_range=(1, 1), norm='l2', preprocessor=None, smooth_idf=True,\n",
       "        stop_words=None, strip_accents=None, sublinear_tf=False,\n",
       "        token_pattern='(?u)\\\\b\\\\w\\\\w+\\\\b', tokenizer=None, use_idf=True,\n",
       "        vocabulary=None)"
      ]
     },
     "execution_count": 87,
     "metadata": {},
     "output_type": "execute_result"
    }
   ],
   "source": [
    "tfidf_model = TfidfVectorizer()\n",
    "tfidf_model.fit(X['project_resource_summary'])"
   ]
  },
  {
   "cell_type": "code",
   "execution_count": 88,
   "metadata": {},
   "outputs": [
    {
     "name": "stderr",
     "output_type": "stream",
     "text": [
      "100%|██████████| 49041/49041 [00:15<00:00, 3067.98it/s]\n"
     ]
    },
    {
     "name": "stdout",
     "output_type": "stream",
     "text": [
      "49041\n",
      "300\n"
     ]
    },
    {
     "name": "stderr",
     "output_type": "stream",
     "text": [
      "100%|██████████| 24155/24155 [00:07<00:00, 3166.00it/s]\n"
     ]
    },
    {
     "name": "stdout",
     "output_type": "stream",
     "text": [
      "24155\n",
      "300\n"
     ]
    },
    {
     "name": "stderr",
     "output_type": "stream",
     "text": [
      "100%|██████████| 36052/36052 [00:12<00:00, 2891.46it/s]\n"
     ]
    },
    {
     "name": "stdout",
     "output_type": "stream",
     "text": [
      "36052\n",
      "300\n"
     ]
    }
   ],
   "source": [
    "# we are converting a dictionary with word as a key, and the idf as a value\n",
    "dictionary = dict(zip(tfidf_model.get_feature_names(), list(tfidf_model.idf_)))\n",
    "tfidf_words = set(tfidf_model.get_feature_names())\n",
    "\n",
    "#ON PREPROCESSED TITLE\n",
    "train_tfidf_w2v_resum = []; # the avg-w2v for each sentence/review is stored in this list\n",
    "for sentence in tqdm(X_train['project_resource_summary']): # for each review/sentence\n",
    "    vector = np.zeros(300) # as word vectors are of zero length\n",
    "    tf_idf_weight =0; # num of words with a valid vector in the sentence/review\n",
    "    for word in sentence.split(): # for each word in a review/sentence\n",
    "        if (word in glove_words) and (word in tfidf_words):\n",
    "            vec = model[word] # getting the vector for each word\n",
    "            # here we are multiplying idf value(dictionary[word]) and the tf value((sentence.count(word)/len(sentence.split())))\n",
    "            tf_idf = dictionary[word]*(sentence.count(word)/len(sentence.split())) # getting the tfidf value for each word\n",
    "            vector += (vec * tf_idf) # calculating tfidf weighted w2v\n",
    "            tf_idf_weight += tf_idf\n",
    "    if tf_idf_weight != 0:\n",
    "        vector /= tf_idf_weight\n",
    "    train_tfidf_w2v_resum.append(vector)\n",
    "\n",
    "print(len(train_tfidf_w2v_resum))\n",
    "print(len(train_tfidf_w2v_resum[0]))\n",
    "\n",
    "cv_tfidf_w2v_resum = []; # the avg-w2v for each sentence/review is stored in this list\n",
    "for sentence in tqdm(X_cv['project_resource_summary']): # for each review/sentence\n",
    "    vector = np.zeros(300) # as word vectors are of zero length\n",
    "    tf_idf_weight =0; # num of words with a valid vector in the sentence/review\n",
    "    for word in sentence.split(): # for each word in a review/sentence\n",
    "        if (word in glove_words) and (word in tfidf_words):\n",
    "            vec = model[word] # getting the vector for each word\n",
    "            # here we are multiplying idf value(dictionary[word]) and the tf value((sentence.count(word)/len(sentence.split())))\n",
    "            tf_idf = dictionary[word]*(sentence.count(word)/len(sentence.split())) # getting the tfidf value for each word\n",
    "            vector += (vec * tf_idf) # calculating tfidf weighted w2v\n",
    "            tf_idf_weight += tf_idf\n",
    "    if tf_idf_weight != 0:\n",
    "        vector /= tf_idf_weight\n",
    "    cv_tfidf_w2v_resum.append(vector)\n",
    "\n",
    "print(len(cv_tfidf_w2v_resum))\n",
    "print(len(cv_tfidf_w2v_resum[0]))\n",
    "\n",
    "test_tfidf_w2v_resum = []; # the avg-w2v for each sentence/review is stored in this list\n",
    "for sentence in tqdm(X_test['project_resource_summary']): # for each review/sentence\n",
    "    vector = np.zeros(300) # as word vectors are of zero length\n",
    "    tf_idf_weight =0; # num of words with a valid vector in the sentence/review\n",
    "    for word in sentence.split(): # for each word in a review/sentence\n",
    "        if (word in glove_words) and (word in tfidf_words):\n",
    "            vec = model[word] # getting the vector for each word\n",
    "            # here we are multiplying idf value(dictionary[word]) and the tf value((sentence.count(word)/len(sentence.split())))\n",
    "            tf_idf = dictionary[word]*(sentence.count(word)/len(sentence.split())) # getting the tfidf value for each word\n",
    "            vector += (vec * tf_idf) # calculating tfidf weighted w2v\n",
    "            tf_idf_weight += tf_idf\n",
    "    if tf_idf_weight != 0:\n",
    "        vector /= tf_idf_weight\n",
    "    test_tfidf_w2v_resum.append(vector)\n",
    "\n",
    "print(len(test_tfidf_w2v_resum))\n",
    "print(len(test_tfidf_w2v_resum[0]))\n",
    "\n",
    "# Changing list to numpy arrays\n",
    "train_tfidf_w2v_resum = np.array(train_tfidf_w2v_resum)\n",
    "test_tfidf_w2v_resum = np.array(test_tfidf_w2v_resum)\n",
    "cv_tfidf_w2v_resum = np.array(cv_tfidf_w2v_resum)"
   ]
  },
  {
   "cell_type": "markdown",
   "metadata": {},
   "source": [
    "# 4. One Hot Encoding of Categorical features. \n",
    "<a id='ohe'></a>"
   ]
  },
  {
   "cell_type": "markdown",
   "metadata": {},
   "source": [
    "### 4.1 One Hot Encoding of STATE.\n",
    "<a id='ohes'></a>"
   ]
  },
  {
   "cell_type": "code",
   "execution_count": 44,
   "metadata": {},
   "outputs": [
    {
     "name": "stdout",
     "output_type": "stream",
     "text": [
      "After vectorizations\n",
      "(49041, 51) (49041,)\n",
      "(24155, 51) (24155,)\n",
      "(36052, 51) (36052,)\n",
      "['ak', 'al', 'ar', 'az', 'ca', 'co', 'ct', 'dc', 'de', 'fl', 'ga', 'hi', 'ia', 'id', 'il', 'in', 'ks', 'ky', 'la', 'ma', 'md', 'me', 'mi', 'mn', 'mo', 'ms', 'mt', 'nc', 'nd', 'ne', 'nh', 'nj', 'nm', 'nv', 'ny', 'oh', 'ok', 'or', 'pa', 'ri', 'sc', 'sd', 'tn', 'tx', 'ut', 'va', 'vt', 'wa', 'wi', 'wv', 'wy']\n",
      "====================================================================================================\n"
     ]
    }
   ],
   "source": [
    "vectorizer = CountVectorizer()\n",
    "vectorizer.fit(X_train['school_state'].values) # fit has to happen only on train data\n",
    "\n",
    "# we use the fitted CountVectorizer to convert the text to vector\n",
    "X_train_state_ohe = vectorizer.transform(X_train['school_state'].values)\n",
    "X_cv_state_ohe = vectorizer.transform(X_cv['school_state'].values)\n",
    "X_test_state_ohe = vectorizer.transform(X_test['school_state'].values)\n",
    "\n",
    "print(\"After vectorizations\")\n",
    "print(X_train_state_ohe.shape, y_train.shape)\n",
    "print(X_cv_state_ohe.shape, y_cv.shape)\n",
    "print(X_test_state_ohe.shape, y_test.shape)\n",
    "print(vectorizer.get_feature_names())\n",
    "print(\"=\"*100)"
   ]
  },
  {
   "cell_type": "markdown",
   "metadata": {},
   "source": [
    "### 4.2 One Hot Encoding of TEACHER-PREFIX.\n",
    "### NOTE:- Teacher prefix contains 2 null values and OHE cannot be performed on NaN values. Hence I have filled the two NaN values using fllna() with 'null'\n",
    "\n",
    "<a id='ohetp'></a>"
   ]
  },
  {
   "cell_type": "code",
   "execution_count": 45,
   "metadata": {},
   "outputs": [
    {
     "name": "stdout",
     "output_type": "stream",
     "text": [
      "After vectorizations\n",
      "(49041, 6) (49041,)\n",
      "(24155, 6) (24155,)\n",
      "(36052, 6) (36052,)\n",
      "['dr', 'mr', 'mrs', 'ms', 'null', 'teacher']\n",
      "====================================================================================================\n"
     ]
    }
   ],
   "source": [
    "vectorizer = CountVectorizer()\n",
    "vectorizer.fit(X_train['teacher_prefix'].values) # fit has to happen only on train data\n",
    "\n",
    "# we use the fitted CountVectorizer to convert the text to vector\n",
    "X_train_teacher_ohe = vectorizer.transform(X_train['teacher_prefix'].values)\n",
    "X_cv_teacher_ohe = vectorizer.transform(X_cv['teacher_prefix'].values)\n",
    "X_test_teacher_ohe = vectorizer.transform(X_test['teacher_prefix'].values)\n",
    "\n",
    "print(\"After vectorizations\")\n",
    "print(X_train_teacher_ohe.shape, y_train.shape)\n",
    "print(X_cv_teacher_ohe.shape, y_cv.shape)\n",
    "print(X_test_teacher_ohe.shape, y_test.shape)\n",
    "print(vectorizer.get_feature_names())\n",
    "print(\"=\"*100)"
   ]
  },
  {
   "cell_type": "markdown",
   "metadata": {},
   "source": [
    "### 4.3 One Hot Encoding of PROJECT_GRADE_CATEGORY.\n",
    "\n",
    "<a id='ohepgc'></a>"
   ]
  },
  {
   "cell_type": "code",
   "execution_count": 46,
   "metadata": {},
   "outputs": [],
   "source": [
    "from collections import Counter\n",
    "Counter = Counter()\n",
    "for word in X_train['project_grade_category'].values:\n",
    "    Counter.update(word.split())\n",
    "\n",
    "# dict sort by value python: https://stackoverflow.com/a/613218/4084039\n",
    "project_grade_category_dict = dict(Counter)\n",
    "sorted_project_grade_category_dict = dict(sorted(project_grade_category_dict.items(), key=lambda kv: kv[1]))"
   ]
  },
  {
   "cell_type": "code",
   "execution_count": 47,
   "metadata": {},
   "outputs": [
    {
     "name": "stdout",
     "output_type": "stream",
     "text": [
      "After vectorizations\n",
      "(49041, 4) (49041,)\n",
      "(24155, 4) (24155,)\n",
      "(36052, 4) (36052,)\n",
      "['Grades-9-12', 'Grades-6-8', 'Grades-3-5', 'Grades-PreK-2']\n",
      "====================================================================================================\n"
     ]
    }
   ],
   "source": [
    "vectorizer = CountVectorizer(vocabulary=list(sorted_project_grade_category_dict.keys()), lowercase=False, binary=True)\n",
    "vectorizer.fit(X_train['project_grade_category'].values) # fit has to happen only on train data\n",
    "\n",
    "# we use the fitted CountVectorizer to convert the text to vector\n",
    "X_train_grade_ohe = vectorizer.transform(X_train['project_grade_category'].values)\n",
    "X_cv_grade_ohe = vectorizer.transform(X_cv['project_grade_category'].values)\n",
    "X_test_grade_ohe = vectorizer.transform(X_test['project_grade_category'].values)\n",
    "\n",
    "print(\"After vectorizations\")\n",
    "print(X_train_grade_ohe.shape, y_train.shape)\n",
    "print(X_cv_grade_ohe.shape, y_cv.shape)\n",
    "print(X_test_grade_ohe.shape, y_test.shape)\n",
    "print(vectorizer.get_feature_names())\n",
    "print(\"=\"*100)"
   ]
  },
  {
   "cell_type": "markdown",
   "metadata": {},
   "source": [
    "### 4.4 One Hot Encoding of PROJECT SUBJECT CATEGORY\n",
    "\n",
    "<a id='ohepsc'></a>"
   ]
  },
  {
   "cell_type": "code",
   "execution_count": 48,
   "metadata": {},
   "outputs": [
    {
     "name": "stdout",
     "output_type": "stream",
     "text": [
      "After vectorizations\n",
      "(49041, 9) (49041,)\n",
      "(24155, 9) (24155,)\n",
      "(36052, 9) (36052,)\n",
      "['appliedlearning', 'care_hunger', 'health_sports', 'history_civics', 'literacy_language', 'math_science', 'music_arts', 'specialneeds', 'warmth']\n",
      "====================================================================================================\n"
     ]
    }
   ],
   "source": [
    "vectorizer = CountVectorizer()\n",
    "vectorizer.fit(X_train['clean_categories'].values) # fit has to happen only on train data\n",
    "\n",
    "# we use the fitted CountVectorizer to convert the text to vector\n",
    "X_train_clean_cat_ohe = vectorizer.transform(X_train['clean_categories'].values)\n",
    "X_cv_clean_cat_ohe = vectorizer.transform(X_cv['clean_categories'].values)\n",
    "X_test_clean_cat_ohe = vectorizer.transform(X_test['clean_categories'].values)\n",
    "\n",
    "print(\"After vectorizations\")\n",
    "print(X_train_clean_cat_ohe.shape, y_train.shape)\n",
    "print(X_cv_clean_cat_ohe.shape, y_cv.shape)\n",
    "print(X_test_clean_cat_ohe.shape, y_test.shape)\n",
    "print(vectorizer.get_feature_names())\n",
    "print(\"=\"*100)"
   ]
  },
  {
   "cell_type": "markdown",
   "metadata": {},
   "source": [
    "### 4.5 One Hot Encoding of PROJECT SUBJECT SUB-CATEGORY\n",
    "\n",
    "<a id='ohepssc'></a>"
   ]
  },
  {
   "cell_type": "code",
   "execution_count": 49,
   "metadata": {},
   "outputs": [
    {
     "name": "stdout",
     "output_type": "stream",
     "text": [
      "After vectorizations\n",
      "(49041, 30) (49041,)\n",
      "(24155, 30) (24155,)\n",
      "(36052, 30) (36052,)\n",
      "['appliedsciences', 'care_hunger', 'charactereducation', 'civics_government', 'college_careerprep', 'communityservice', 'earlydevelopment', 'economics', 'environmentalscience', 'esl', 'extracurricular', 'financialliteracy', 'foreignlanguages', 'gym_fitness', 'health_lifescience', 'health_wellness', 'history_geography', 'literacy', 'literature_writing', 'mathematics', 'music', 'nutritioneducation', 'other', 'parentinvolvement', 'performingarts', 'socialsciences', 'specialneeds', 'teamsports', 'visualarts', 'warmth']\n",
      "====================================================================================================\n"
     ]
    }
   ],
   "source": [
    "vectorizer = CountVectorizer()\n",
    "vectorizer.fit(X_train['clean_subcategories'].values) # fit has to happen only on train data\n",
    "\n",
    "# we use the fitted CountVectorizer to convert the text to vector\n",
    "X_train_clean_subcat_ohe = vectorizer.transform(X_train['clean_subcategories'].values)\n",
    "X_cv_clean_subcat_ohe = vectorizer.transform(X_cv['clean_subcategories'].values)\n",
    "X_test_clean_subcat_ohe = vectorizer.transform(X_test['clean_subcategories'].values)\n",
    "\n",
    "print(\"After vectorizations\")\n",
    "print(X_train_clean_subcat_ohe.shape, y_train.shape)\n",
    "print(X_cv_clean_subcat_ohe.shape, y_cv.shape)\n",
    "print(X_test_clean_subcat_ohe.shape, y_test.shape)\n",
    "print(vectorizer.get_feature_names())\n",
    "print(\"=\"*100)"
   ]
  },
  {
   "cell_type": "markdown",
   "metadata": {},
   "source": [
    "# 5. Standardizing numerical features \n",
    "<a id='normal'></a>"
   ]
  },
  {
   "cell_type": "markdown",
   "metadata": {},
   "source": [
    "### 5.1 Standardizing TEACHER NO OF PREV. POSTED PROJ\n",
    "<a id='normalppp'></a>"
   ]
  },
  {
   "cell_type": "code",
   "execution_count": 50,
   "metadata": {},
   "outputs": [
    {
     "name": "stdout",
     "output_type": "stream",
     "text": [
      "After vectorizations\n",
      "(49041, 1) (49041,)\n",
      "(24155, 1) (24155,)\n",
      "(36052, 1) (36052,)\n",
      "====================================================================================================\n"
     ]
    }
   ],
   "source": [
    "import warnings\n",
    "warnings.filterwarnings('ignore')\n",
    "\n",
    "from sklearn.preprocessing import StandardScaler\n",
    "standard_vec = StandardScaler()\n",
    "\n",
    "standard_vec.fit(X_train['teacher_number_of_previously_posted_projects'].values.reshape(-1,1))\n",
    "\n",
    "X_train_TNPPP_std = standard_vec.transform(X_train['teacher_number_of_previously_posted_projects'].values.reshape(-1,1))\n",
    "X_cv_TNPP_std = standard_vec.transform(X_cv['teacher_number_of_previously_posted_projects'].values.reshape(-1,1))\n",
    "X_test_TNPP_std = standard_vec.transform(X_test['teacher_number_of_previously_posted_projects'].values.reshape(-1,1))\n",
    "\n",
    "print(\"After vectorizations\")\n",
    "print(X_train_TNPPP_std.shape, y_train.shape)\n",
    "print(X_cv_TNPP_std.shape, y_cv.shape)\n",
    "print(X_test_TNPP_std.shape, y_test.shape)\n",
    "print(\"=\"*100)"
   ]
  },
  {
   "cell_type": "markdown",
   "metadata": {},
   "source": [
    "### 5.2 Standardizing PRICE\n",
    "<a id='normalp'></a>"
   ]
  },
  {
   "cell_type": "code",
   "execution_count": 51,
   "metadata": {},
   "outputs": [
    {
     "name": "stdout",
     "output_type": "stream",
     "text": [
      "After vectorizations\n",
      "(49041, 1) (49041,)\n",
      "(24155, 1) (24155,)\n",
      "(36052, 1) (36052,)\n",
      "====================================================================================================\n"
     ]
    }
   ],
   "source": [
    "from sklearn.preprocessing import StandardScaler\n",
    "standard_vec = StandardScaler()\n",
    "\n",
    "standard_vec.fit(X_train['price'].values.reshape(-1,1))\n",
    "\n",
    "X_train_price_std = standard_vec.transform(X_train['price'].values.reshape(-1,1))\n",
    "X_cv_price_std = standard_vec.transform(X_cv['price'].values.reshape(-1,1))\n",
    "X_test_price_std = standard_vec.transform(X_test['price'].values.reshape(-1,1))\n",
    "\n",
    "print(\"After vectorizations\")\n",
    "print(X_train_price_std.shape, y_train.shape)\n",
    "print(X_cv_price_std.shape, y_cv.shape)\n",
    "print(X_test_price_std.shape, y_test.shape)\n",
    "print(\"=\"*100)"
   ]
  },
  {
   "cell_type": "markdown",
   "metadata": {},
   "source": [
    "### 5.3 Standardizing QUANTITY\n",
    "<a id='normalq'></a>"
   ]
  },
  {
   "cell_type": "code",
   "execution_count": 52,
   "metadata": {},
   "outputs": [
    {
     "name": "stdout",
     "output_type": "stream",
     "text": [
      "After vectorizations\n",
      "(49041, 1) (49041,)\n",
      "(24155, 1) (24155,)\n",
      "(36052, 1) (36052,)\n",
      "====================================================================================================\n"
     ]
    }
   ],
   "source": [
    "from sklearn.preprocessing import StandardScaler\n",
    "standard_vec = StandardScaler()\n",
    "\n",
    "standard_vec.fit(X_train['quantity'].values.reshape(-1,1))\n",
    "\n",
    "X_train_quantity_std = standard_vec.transform(X_train['quantity'].values.reshape(-1,1))\n",
    "X_cv_quantity_std = standard_vec.transform(X_cv['quantity'].values.reshape(-1,1))\n",
    "X_test_quantity_std = standard_vec.transform(X_test['quantity'].values.reshape(-1,1))\n",
    "\n",
    "print(\"After vectorizations\")\n",
    "print(X_train_quantity_std.shape, y_train.shape)\n",
    "print(X_cv_quantity_std.shape, y_cv.shape)\n",
    "print(X_test_quantity_std.shape, y_test.shape)\n",
    "print(\"=\"*100)"
   ]
  },
  {
   "cell_type": "markdown",
   "metadata": {},
   "source": [
    "### 5.4 Standardizing TOTALWORDS_TITLE for SET-5\n",
    "<a id='normaltwt'></a>"
   ]
  },
  {
   "cell_type": "code",
   "execution_count": 53,
   "metadata": {},
   "outputs": [
    {
     "name": "stdout",
     "output_type": "stream",
     "text": [
      "After vectorizations\n",
      "(49041, 1) (49041,)\n",
      "(24155, 1) (24155,)\n",
      "(36052, 1) (36052,)\n",
      "====================================================================================================\n"
     ]
    }
   ],
   "source": [
    "#Standardizing totalwords as its a numerical feature.\n",
    "import warnings\n",
    "warnings.filterwarnings('ignore')\n",
    "\n",
    "from sklearn.preprocessing import StandardScaler\n",
    "standard_vec = StandardScaler()\n",
    "\n",
    "standard_vec.fit(X_train['totalwords_title'].values.reshape(-1,1))\n",
    "\n",
    "X_train_titlecount_std = standard_vec.transform(X_train['totalwords_title'].values.reshape(-1,1))\n",
    "X_cv_titlecount_std = standard_vec.transform(X_cv['totalwords_title'].values.reshape(-1,1))\n",
    "X_test_titlecount_std = standard_vec.transform(X_test['totalwords_title'].values.reshape(-1,1))\n",
    "\n",
    "print(\"After vectorizations\")\n",
    "print(X_train_titlecount_std.shape, y_train.shape)\n",
    "print(X_cv_titlecount_std.shape, y_cv.shape)\n",
    "print(X_test_titlecount_std.shape, y_test.shape)\n",
    "print(\"=\"*100)"
   ]
  },
  {
   "cell_type": "markdown",
   "metadata": {},
   "source": [
    "### 5.5 Standardizing TOTALWORDS_ESSAY for SET-5\n",
    "<a id='normaltwe'></a>"
   ]
  },
  {
   "cell_type": "code",
   "execution_count": 54,
   "metadata": {},
   "outputs": [
    {
     "name": "stdout",
     "output_type": "stream",
     "text": [
      "After vectorizations\n",
      "(49041, 1) (49041,)\n",
      "(24155, 1) (24155,)\n",
      "(36052, 1) (36052,)\n",
      "====================================================================================================\n"
     ]
    }
   ],
   "source": [
    "#Standardizing totalwords as its a numerical feature.\n",
    "import warnings\n",
    "warnings.filterwarnings('ignore')\n",
    "\n",
    "from sklearn.preprocessing import StandardScaler\n",
    "standard_vec = StandardScaler()\n",
    "\n",
    "standard_vec.fit(X_train['totalwords_essay'].values.reshape(-1,1))\n",
    "\n",
    "X_train_essaycount_std = standard_vec.transform(X_train['totalwords_essay'].values.reshape(-1,1))\n",
    "X_cv_essaycount_std = standard_vec.transform(X_cv['totalwords_essay'].values.reshape(-1,1))\n",
    "X_test_essaycount_std = standard_vec.transform(X_test['totalwords_essay'].values.reshape(-1,1))\n",
    "\n",
    "print(\"After vectorizations\")\n",
    "print(X_train_essaycount_std.shape, y_train.shape)\n",
    "print(X_cv_essaycount_std.shape, y_cv.shape)\n",
    "print(X_test_essaycount_std.shape, y_test.shape)\n",
    "print(\"=\"*100)"
   ]
  },
  {
   "cell_type": "markdown",
   "metadata": {},
   "source": [
    "## NOTE:  We don't need to Standardize the Sentiment scores as they are probabilities between 0 and 1. Therefore I will just convert those column values to an array.\n",
    "\n",
    "<a id='note'></a>"
   ]
  },
  {
   "cell_type": "code",
   "execution_count": 55,
   "metadata": {},
   "outputs": [],
   "source": [
    "#Compound Score Array\n",
    "#You can either do reshape(-1, 1) or <variable_name>.T to transpose your array. I have chosen reshape(-1, 1)\n",
    "\n",
    "X_train_compsc = np.array([X_train['Compound Score']]).reshape(-1, 1)\n",
    "X_cv_compsc = np.array([X_cv['Compound Score']]).reshape(-1, 1)\n",
    "X_test_compsc = np.array([X_test['Compound Score']]).reshape(-1, 1)"
   ]
  },
  {
   "cell_type": "code",
   "execution_count": 56,
   "metadata": {},
   "outputs": [],
   "source": [
    "#Neutral Score Array\n",
    "X_train_neusc = np.array([X_train['Neutral Score']]).reshape(-1, 1)\n",
    "X_cv_neusc = np.array([X_cv['Neutral Score']]).reshape(-1, 1)\n",
    "X_test_neusc = np.array([X_test['Neutral Score']]).reshape(-1, 1)"
   ]
  },
  {
   "cell_type": "code",
   "execution_count": 57,
   "metadata": {},
   "outputs": [],
   "source": [
    "#Negative Score Array\n",
    "X_train_negsc = np.array([X_train['Negative Score']]).reshape(-1, 1)\n",
    "X_cv_negsc = np.array([X_cv['Negative Score']]).reshape(-1, 1)\n",
    "X_test_negsc = np.array([X_test['Negative Score']]).reshape(-1, 1)"
   ]
  },
  {
   "cell_type": "code",
   "execution_count": 58,
   "metadata": {},
   "outputs": [],
   "source": [
    "#Positive Score Array\n",
    "X_train_possc = np.array([X_train['Positive Score']]).reshape(-1, 1)\n",
    "X_cv_possc = np.array([X_cv['Positive Score']]).reshape(-1, 1)\n",
    "X_test_possc = np.array([X_test['Positive Score']]).reshape(-1, 1)"
   ]
  },
  {
   "cell_type": "markdown",
   "metadata": {},
   "source": [
    "# 6. Concatinating All Features.\n",
    "<a id='merge'></a>"
   ]
  },
  {
   "cell_type": "markdown",
   "metadata": {},
   "source": [
    "### 6. 1 Concatinating for BoW\n",
    "\n",
    "<a id='mergebow'></a>"
   ]
  },
  {
   "cell_type": "code",
   "execution_count": 59,
   "metadata": {},
   "outputs": [
    {
     "name": "stdout",
     "output_type": "stream",
     "text": [
      "Final Data matrix\n",
      "(49041, 13356) (49041,)\n",
      "(24155, 13356) (24155,)\n",
      "(36052, 13356) (36052,)\n",
      "====================================================================================================\n"
     ]
    }
   ],
   "source": [
    "# merge two sparse matrices: https://stackoverflow.com/a/19710648/4084039\n",
    "#Concatinating features for BoW\n",
    "from scipy.sparse import hstack\n",
    "X_tr = hstack((X_train_essay_bow, X_train_title_bow, X_train_resum_bow, X_train_state_ohe, X_train_teacher_ohe, X_train_grade_ohe, X_train_clean_cat_ohe, X_train_clean_subcat_ohe, X_train_TNPPP_std, X_train_price_std, X_train_quantity_std)).tocsr()\n",
    "X_cr = hstack((X_cv_essay_bow, X_cv_title_bow, X_cv_resum_bow, X_cv_state_ohe, X_cv_teacher_ohe, X_cv_grade_ohe, X_cv_clean_cat_ohe, X_cv_clean_subcat_ohe, X_cv_TNPP_std, X_cv_price_std, X_cv_quantity_std)).tocsr()\n",
    "X_te = hstack((X_test_essay_bow, X_test_title_bow, X_test_resum_bow, X_test_state_ohe, X_test_teacher_ohe, X_test_grade_ohe, X_test_clean_cat_ohe, X_test_clean_subcat_ohe, X_test_TNPP_std, X_test_price_std, X_test_quantity_std)).tocsr()\n",
    "\n",
    "print(\"Final Data matrix\")\n",
    "print(X_tr.shape, y_train.shape)\n",
    "print(X_cr.shape, y_cv.shape)\n",
    "print(X_te.shape, y_test.shape)\n",
    "print(\"=\"*100)"
   ]
  },
  {
   "cell_type": "markdown",
   "metadata": {},
   "source": [
    "### 6. 2 Concatinating for TF-IDF\n",
    "<a id='mergetfidf'></a>"
   ]
  },
  {
   "cell_type": "code",
   "execution_count": 67,
   "metadata": {},
   "outputs": [
    {
     "name": "stdout",
     "output_type": "stream",
     "text": [
      "Final Data matrix\n",
      "(49041, 11609) (49041,)\n",
      "(24155, 11609) (24155,)\n",
      "(36052, 11609) (36052,)\n",
      "====================================================================================================\n"
     ]
    }
   ],
   "source": [
    "#Concatinating features for TFIDF\n",
    "from scipy.sparse import hstack\n",
    "X_tr = hstack((X_train_essay_tfidf, X_train_title_tfidf, X_train_resum_tfidf, X_train_state_ohe, X_train_teacher_ohe, X_train_grade_ohe, X_train_clean_cat_ohe, X_train_clean_subcat_ohe, X_train_TNPPP_std, X_train_price_std, X_train_quantity_std)).tocsr()\n",
    "X_cr = hstack((X_cv_essay_tfidf, X_cv_title_tfidf, X_cv_resum_tfidf, X_cv_state_ohe, X_cv_teacher_ohe, X_cv_grade_ohe, X_cv_clean_cat_ohe, X_cv_clean_subcat_ohe, X_cv_TNPP_std, X_cv_price_std, X_cv_quantity_std)).tocsr()\n",
    "X_te = hstack((X_test_essay_tfidf, X_test_title_tfidf, X_test_resum_tfidf, X_test_state_ohe, X_test_teacher_ohe, X_test_grade_ohe, X_test_clean_cat_ohe, X_test_clean_subcat_ohe, X_test_TNPP_std, X_test_price_std, X_test_quantity_std)).tocsr()\n",
    "\n",
    "print(\"Final Data matrix\")\n",
    "print(X_tr.shape, y_train.shape)\n",
    "print(X_cr.shape, y_cv.shape)\n",
    "print(X_te.shape, y_test.shape)\n",
    "print(\"=\"*100)"
   ]
  },
  {
   "cell_type": "markdown",
   "metadata": {},
   "source": [
    "### 6. 3 Concatinating for AVG W2V\n",
    "<a id='mergew2v'></a>"
   ]
  },
  {
   "cell_type": "code",
   "execution_count": 76,
   "metadata": {},
   "outputs": [
    {
     "name": "stdout",
     "output_type": "stream",
     "text": [
      "Final Data matrix\n",
      "(49041, 1003) (49041,)\n",
      "(24155, 1003) (24155,)\n",
      "(36052, 1003) (36052,)\n",
      "====================================================================================================\n"
     ]
    }
   ],
   "source": [
    "#Concatinating features for AVG W2V\n",
    "from scipy.sparse import hstack\n",
    "X_tr = hstack((train_w2v_vectors_essays, w2v_train_vectors_titles, w2v_train_vectors_resum, X_train_state_ohe, X_train_teacher_ohe, X_train_grade_ohe, X_train_clean_cat_ohe, X_train_clean_subcat_ohe, X_train_TNPPP_std, X_train_price_std, X_train_quantity_std)).tocsr()\n",
    "X_cr = hstack((cv_w2v_vectors_essays, w2v_cv_vectors_titles, w2v_cv_vectors_resum, X_cv_state_ohe, X_cv_teacher_ohe, X_cv_grade_ohe, X_cv_clean_cat_ohe, X_cv_clean_subcat_ohe, X_cv_TNPP_std, X_cv_price_std, X_cv_quantity_std)).tocsr()\n",
    "X_te = hstack((test_w2v_vectors_essays, w2v_test_vectors_titles, w2v_test_vectors_resum, X_test_state_ohe, X_test_teacher_ohe, X_test_grade_ohe, X_test_clean_cat_ohe, X_test_clean_subcat_ohe, X_test_TNPP_std, X_test_price_std, X_test_quantity_std)).tocsr()\n",
    "\n",
    "print(\"Final Data matrix\")\n",
    "print(X_tr.shape, y_train.shape)\n",
    "print(X_cr.shape, y_cv.shape)\n",
    "print(X_te.shape, y_test.shape)\n",
    "print(\"=\"*100)"
   ]
  },
  {
   "cell_type": "markdown",
   "metadata": {},
   "source": [
    "### 6.4 Concatinating for TFIDF AVG W2V\n",
    "<a id='mergetfidfw2v'></a>"
   ]
  },
  {
   "cell_type": "code",
   "execution_count": 89,
   "metadata": {},
   "outputs": [
    {
     "name": "stdout",
     "output_type": "stream",
     "text": [
      "Final Data matrix\n",
      "(49041, 1003) (49041,)\n",
      "(24155, 1003) (24155,)\n",
      "(36052, 1003) (36052,)\n",
      "====================================================================================================\n"
     ]
    }
   ],
   "source": [
    "#Concatinating features for TFIDF W2V\n",
    "from scipy.sparse import hstack\n",
    "X_tr = hstack((train_tfidf_w2v_essay, train_tfidf_w2v_title, train_tfidf_w2v_resum, X_train_state_ohe, X_train_teacher_ohe, X_train_grade_ohe, X_train_clean_cat_ohe, X_train_clean_subcat_ohe, X_train_TNPPP_std, X_train_price_std, X_train_quantity_std)).tocsr()\n",
    "X_cr = hstack((cv_tfidf_w2v_essay, cv_tfidf_w2v_title, cv_tfidf_w2v_resum, X_cv_state_ohe, X_cv_teacher_ohe, X_cv_grade_ohe, X_cv_clean_cat_ohe, X_cv_clean_subcat_ohe, X_cv_TNPP_std, X_cv_price_std, X_cv_quantity_std)).tocsr()\n",
    "X_te = hstack((test_tfidf_w2v_essay, test_tfidf_w2v_title, test_tfidf_w2v_resum, X_test_state_ohe, X_test_teacher_ohe, X_test_grade_ohe, X_test_clean_cat_ohe, X_test_clean_subcat_ohe, X_test_TNPP_std, X_test_price_std, X_test_quantity_std)).tocsr()\n",
    "\n",
    "print(\"Final Data matrix\")\n",
    "print(X_tr.shape, y_train.shape)\n",
    "print(X_cr.shape, y_cv.shape)\n",
    "print(X_te.shape, y_test.shape)\n",
    "print(\"=\"*100)"
   ]
  },
  {
   "cell_type": "markdown",
   "metadata": {},
   "source": [
    "### 6. 5 Concatinating features for SET-5\n",
    "<a id='feat5'></a>"
   ]
  },
  {
   "cell_type": "code",
   "execution_count": 95,
   "metadata": {},
   "outputs": [
    {
     "name": "stdout",
     "output_type": "stream",
     "text": [
      "Final Data matrix\n",
      "(49041, 109) (49041,)\n",
      "(24155, 109) (24155,)\n",
      "(36052, 109) (36052,)\n",
      "====================================================================================================\n"
     ]
    }
   ],
   "source": [
    "#Concatinating features for TFIDF W2V\n",
    "from scipy.sparse import hstack\n",
    "X_tr = hstack((X_train_titlecount_std, X_train_essaycount_std, X_train_compsc, X_train_neusc, X_train_negsc, X_train_possc, X_train_state_ohe, X_train_teacher_ohe, X_train_grade_ohe, X_train_clean_cat_ohe, X_train_clean_subcat_ohe, X_train_TNPPP_std, X_train_price_std, X_train_quantity_std)).tocsr()\n",
    "X_cr = hstack((X_cv_titlecount_std, X_cv_essaycount_std, X_cv_compsc, X_cv_neusc, X_cv_negsc, X_cv_possc, X_cv_state_ohe, X_cv_teacher_ohe, X_cv_grade_ohe, X_cv_clean_cat_ohe, X_cv_clean_subcat_ohe, X_cv_TNPP_std, X_cv_price_std, X_cv_quantity_std)).tocsr()\n",
    "X_te = hstack((X_test_titlecount_std, X_test_essaycount_std, X_test_compsc, X_test_neusc, X_test_negsc, X_test_possc, X_test_state_ohe, X_test_teacher_ohe, X_test_grade_ohe, X_test_clean_cat_ohe, X_test_clean_subcat_ohe, X_test_TNPP_std, X_test_price_std, X_test_quantity_std)).tocsr()\n",
    "\n",
    "print(\"Final Data matrix\")\n",
    "print(X_tr.shape, y_train.shape)\n",
    "print(X_cr.shape, y_cv.shape)\n",
    "print(X_te.shape, y_test.shape)\n",
    "print(\"=\"*100)"
   ]
  },
  {
   "cell_type": "markdown",
   "metadata": {},
   "source": [
    "# 7. Applying Logistic Regression\n",
    "\n",
    "<a id='knn'></a>"
   ]
  },
  {
   "cell_type": "markdown",
   "metadata": {},
   "source": [
    "## Set-1: categorical, numerical features + project_title(BOW) + preprocessed_essay (BOW with bi-grams with min_df=10 and max_features=5000\n",
    "<a id='set1'></a>"
   ]
  },
  {
   "cell_type": "code",
   "execution_count": 60,
   "metadata": {},
   "outputs": [
    {
     "data": {
      "image/png": "[encoded data removed]",
      "text/plain": [
       "<Figure size 432x288 with 1 Axes>"
      ]
     },
     "metadata": {},
     "output_type": "display_data"
    }
   ],
   "source": [
    "#Citation:\n",
    "#This code is copied from here: https://stackoverflow.com/a/48803361/4084039\n",
    "\n",
    "from sklearn.model_selection import GridSearchCV\n",
    "from sklearn.linear_model import LogisticRegression\n",
    "\n",
    "model = LogisticRegression(random_state=0, class_weight='balanced')\n",
    "\n",
    "param_grid = {\n",
    "    \n",
    "    'C': np.logspace(-3, 2, 6)\n",
    "}\n",
    "\n",
    "grid = GridSearchCV(model, param_grid, cv=3, scoring='roc_auc')\n",
    "                    \n",
    "grid.fit(X_tr, y_train)\n",
    "\n",
    "Cs = np.logspace(-3, 2, 6)\n",
    "\n",
    "train_auc = grid.cv_results_[\"mean_train_score\"]\n",
    "train_scores_std = grid.cv_results_[\"std_train_score\"]\n",
    "cv_auc = grid.cv_results_[\"mean_test_score\"]\n",
    "cv_scores_std = grid.cv_results_[\"std_test_score\"]\n",
    "\n",
    "plt.figure()\n",
    "plt.title('Model')\n",
    "plt.xlabel('C: Hyperparameter')\n",
    "plt.ylabel('AUC')\n",
    "\n",
    "# plot train scores\n",
    "plt.semilogx(Cs, train_auc, label='Train AUC', color='darkblue')\n",
    "\n",
    "# create a shaded area between [mean - std, mean + std]\n",
    "plt.gca().fill_between(Cs,\n",
    "                       train_auc - train_scores_std,\n",
    "                       train_auc + train_scores_std,\n",
    "                       alpha=0.2,\n",
    "                       color='darkblue')\n",
    "\n",
    "plt.semilogx(Cs, cv_auc, label='CV AUC', color='darkorange')\n",
    "\n",
    "# create a shaded area between [mean - std, mean + std]\n",
    "plt.gca().fill_between(Cs,\n",
    "                       cv_auc - cv_scores_std,\n",
    "                       cv_auc + cv_scores_std,\n",
    "                       alpha=0.2,\n",
    "                       color='darkorange')\n",
    "\n",
    "plt.scatter(Cs, train_auc, label='Train AUC points', color='darkblue')\n",
    "plt.scatter(Cs, cv_auc, label='CV AUC points', color='darkorange')\n",
    "\n",
    "#Citation for plotting the legend outside the plot\n",
    "#url: https://matplotlib.org/users/legend_guide.html\n",
    "\n",
    "plt.legend(bbox_to_anchor=(1.05, 1), loc=2, borderaxespad=0.)\n",
    "plt.show()"
   ]
  },
  {
   "cell_type": "code",
   "execution_count": 61,
   "metadata": {},
   "outputs": [
    {
     "name": "stdout",
     "output_type": "stream",
     "text": [
      "AUC of Train Data: 0.79\n",
      "AUC of Test Data: 0.73\n"
     ]
    },
    {
     "data": {
      "image/png": "[encoded data removed]",
      "text/plain": [
       "<Figure size 432x288 with 1 Axes>"
      ]
     },
     "metadata": {},
     "output_type": "display_data"
    },
    {
     "name": "stdout",
     "output_type": "stream",
     "text": [
      "Wall time: 4.93 s\n"
     ]
    }
   ],
   "source": [
    "%%time\n",
    "\n",
    "#Citation: plot roc auc curve\n",
    "#url: https://stackabuse.com/understanding-roc-curves-with-python/\n",
    "\n",
    "best_C = 0.001\n",
    "\n",
    "from sklearn.linear_model import LogisticRegression \n",
    "from sklearn.metrics import roc_curve, auc\n",
    "from sklearn.metrics import roc_curve\n",
    "from sklearn.metrics import roc_auc_score\n",
    "from matplotlib import pyplot\n",
    "\n",
    "model_bow = LogisticRegression(C=best_C, random_state=0, class_weight='balanced')\n",
    "model_bow.fit(X_tr, y_train)\n",
    "\n",
    "def plot_roc_curve(test_fpr, test_tpr, train_fpr, train_tpr):  \n",
    "    plt.plot(train_fpr, train_tpr, color='red', label='ROC for train')\n",
    "    plt.plot(test_fpr, test_tpr, color='orange', label='ROC for test')\n",
    "    plt.plot([0, 1], [0, 1], color='darkblue', linestyle='--')\n",
    "    plt.xlabel('C: Hyperparameter')\n",
    "    plt.ylabel('AUC')\n",
    "    plt.title('Receiver Operating Characteristic (ROC) Curve')\n",
    "    plt.legend()\n",
    "    plt.show()\n",
    "    \n",
    "y_test_pred = model_bow.predict_log_proba(X_te)  \n",
    "y_test_pred = y_test_pred[:, 1]\n",
    "\n",
    "y_train_pred = model_bow.predict_log_proba(X_tr)  \n",
    "y_train_pred = y_train_pred[:, 1] \n",
    "\n",
    "auc_train = roc_auc_score(y_train, y_train_pred)  \n",
    "print('AUC of Train Data: %.2f' % auc_train)  \n",
    "\n",
    "auc_test = roc_auc_score(y_test, y_test_pred)  \n",
    "print('AUC of Test Data: %.2f' % auc_test)  \n",
    "\n",
    "train_fpr, train_tpr, train_thresholds = roc_curve(y_train, y_train_pred)\n",
    "test_fpr, test_tpr, test_thresholds = roc_curve(y_test, y_test_pred)  \n",
    "\n",
    "plot_roc_curve(test_fpr, test_tpr, train_fpr, train_tpr)"
   ]
  },
  {
   "cell_type": "code",
   "execution_count": 62,
   "metadata": {},
   "outputs": [],
   "source": [
    "# we are writing our own function for predict, with defined thresould\n",
    "# we will pick a threshold that will give the least fpr\n",
    "def predict(proba, threshould, fpr, tpr):\n",
    "    \n",
    "    t = threshould[np.argmax(tpr*(1-fpr))]\n",
    "    \n",
    "    # (tpr*(1-fpr)) will be maximum if your fpr is very low and tpr is very high\n",
    "    \n",
    "    print(\"the maximum value of tpr*(1-fpr)\", max(tpr*(1-fpr)), \"for threshold\", np.round(t,3))\n",
    "    predictions = []\n",
    "    for i in proba:\n",
    "        if i>=t:\n",
    "            predictions.append(1)\n",
    "        else:\n",
    "            predictions.append(0)\n",
    "    return predictions"
   ]
  },
  {
   "cell_type": "code",
   "execution_count": 63,
   "metadata": {},
   "outputs": [
    {
     "name": "stdout",
     "output_type": "stream",
     "text": [
      "Train confusion matrix\n",
      "the maximum value of tpr*(1-fpr) 0.25 for threshold -0.921\n"
     ]
    },
    {
     "data": {
      "image/png": "[encoded data removed]",
      "text/plain": [
       "<Figure size 432x288 with 2 Axes>"
      ]
     },
     "metadata": {},
     "output_type": "display_data"
    },
    {
     "name": "stdout",
     "output_type": "stream",
     "text": [
      "Test confusion matrix\n",
      "the maximum value of tpr*(1-fpr) 0.24999999161092998 for threshold -0.846\n"
     ]
    },
    {
     "data": {
      "image/png": "[encoded data removed]",
      "text/plain": [
       "<Figure size 432x288 with 2 Axes>"
      ]
     },
     "metadata": {},
     "output_type": "display_data"
    }
   ],
   "source": [
    "from sklearn.metrics import confusion_matrix\n",
    "\n",
    "print(\"Train confusion matrix\")\n",
    "cm_train = confusion_matrix(y_train, predict(y_train_pred, train_thresholds, train_fpr, train_fpr))\n",
    "\n",
    "class_names = ['negative','positive']\n",
    "sns.heatmap(cm_train, annot=True, fmt='d',cmap='viridis')\n",
    "plt.ylabel('Predicted label',size=18)\n",
    "plt.xlabel('True label',size=18)\n",
    "plt.title(\"Train Confusion Matrix\\n\",size=24)\n",
    "plt.show()\n",
    "\n",
    "print(\"Test confusion matrix\")\n",
    "cm_test = confusion_matrix(y_test, predict(y_test_pred, test_thresholds, test_fpr, test_fpr))\n",
    "\n",
    "class_names = ['negative','positive']\n",
    "sns.heatmap(cm_test, annot=True, fmt='d',cmap='viridis')\n",
    "plt.ylabel('Predicted label',size=18)\n",
    "plt.xlabel('True label',size=18)\n",
    "plt.title(\"Test Confusion Matrix\\n\",size=24)\n",
    "plt.show()"
   ]
  },
  {
   "cell_type": "markdown",
   "metadata": {},
   "source": [
    "## Set-2 categorical, numerical features + project_title(TFIDF)+ preprocessed_essay (TFIDF with bi-grams with min_df=10 and max_features=5000\n",
    "\n",
    "<a id='set2'></a>"
   ]
  },
  {
   "cell_type": "code",
   "execution_count": 68,
   "metadata": {},
   "outputs": [
    {
     "data": {
      "image/png": "[encoded data removed]",
      "text/plain": [
       "<Figure size 432x288 with 1 Axes>"
      ]
     },
     "metadata": {},
     "output_type": "display_data"
    }
   ],
   "source": [
    "#Citation:\n",
    "#This code is copied from here: https://stackoverflow.com/a/48803361/4084039\n",
    "\n",
    "from sklearn.model_selection import GridSearchCV\n",
    "from sklearn.linear_model import LogisticRegression\n",
    "\n",
    "model_tfidf = LogisticRegression(random_state=0, class_weight='balanced')\n",
    "\n",
    "#to plot the graph properly I used logspace. \n",
    "#The below code (-3, 2, 6) means 10^-3 to 10^2 with 6 values, That is\n",
    "#0.001, 0.01, 0.1, 1, 10, 100 -> 6 values. Default base is 10 for logspace.\n",
    "\n",
    "param_grid = {\n",
    "    \n",
    "    'C': np.logspace(-3, 2, 6)\n",
    "}\n",
    "\n",
    "grid = GridSearchCV(model_tfidf, param_grid, cv=3, scoring='roc_auc')\n",
    "                    \n",
    "grid.fit(X_tr, y_train)\n",
    "\n",
    "Cs = np.logspace(-3, 2, 6)\n",
    "\n",
    "train_auc = grid.cv_results_[\"mean_train_score\"]\n",
    "train_scores_std = grid.cv_results_[\"std_train_score\"]\n",
    "cv_auc = grid.cv_results_[\"mean_test_score\"]\n",
    "cv_scores_std = grid.cv_results_[\"std_test_score\"]\n",
    "\n",
    "plt.figure()\n",
    "plt.title('Model')\n",
    "plt.xlabel('C: Hyperparameter')\n",
    "plt.ylabel('AUC')\n",
    "\n",
    "# plot train scores\n",
    "#Make a plot with log scaling on the x axis I used semilogx.\n",
    "\n",
    "plt.semilogx(Cs, train_auc, label='Train AUC', color='darkblue')\n",
    "\n",
    "# create a shaded area between [mean - std, mean + std]\n",
    "plt.gca().fill_between(Cs,\n",
    "                       train_auc - train_scores_std,\n",
    "                       train_auc + train_scores_std,\n",
    "                       alpha=0.2,\n",
    "                       color='darkblue')\n",
    "\n",
    "plt.semilogx(Cs, cv_auc, label='CV AUC', color='darkorange')\n",
    "\n",
    "# create a shaded area between [mean - std, mean + std]\n",
    "plt.gca().fill_between(Cs,\n",
    "                       cv_auc - cv_scores_std,\n",
    "                       cv_auc + cv_scores_std,\n",
    "                       alpha=0.2,\n",
    "                       color='darkorange')\n",
    "\n",
    "plt.scatter(Cs, train_auc, label='Train AUC points', color='darkblue')\n",
    "plt.scatter(Cs, cv_auc, label='CV AUC points', color='darkorange')\n",
    "\n",
    "#Citation for plotting the legend outside the plot\n",
    "#url: https://matplotlib.org/users/legend_guide.html\n",
    "\n",
    "plt.legend(bbox_to_anchor=(1.05, 1), loc=2, borderaxespad=0.)\n",
    "plt.show()"
   ]
  },
  {
   "cell_type": "code",
   "execution_count": 69,
   "metadata": {},
   "outputs": [
    {
     "name": "stdout",
     "output_type": "stream",
     "text": [
      "Best parameters:  {'C': 0.1}\n"
     ]
    }
   ],
   "source": [
    "print(\"Best parameters: \", grid.best_params_)"
   ]
  },
  {
   "cell_type": "code",
   "execution_count": 70,
   "metadata": {},
   "outputs": [
    {
     "name": "stdout",
     "output_type": "stream",
     "text": [
      "AUC of Train Data: 0.84\n",
      "AUC of Test Data: 0.70\n"
     ]
    },
    {
     "data": {
      "image/png": "[encoded data removed]",
      "text/plain": [
       "<Figure size 432x288 with 1 Axes>"
      ]
     },
     "metadata": {},
     "output_type": "display_data"
    },
    {
     "name": "stdout",
     "output_type": "stream",
     "text": [
      "Wall time: 12.3 s\n"
     ]
    }
   ],
   "source": [
    "%%time\n",
    "\n",
    "#Citation: plot roc auc curve\n",
    "#url: https://stackabuse.com/understanding-roc-curves-with-python/\n",
    "\n",
    "best_C = 0.1\n",
    "\n",
    "from sklearn.linear_model import LogisticRegression \n",
    "from sklearn.metrics import roc_curve, auc\n",
    "from sklearn.metrics import roc_curve\n",
    "from sklearn.metrics import roc_auc_score\n",
    "from matplotlib import pyplot\n",
    "\n",
    "model_tfidf = LogisticRegression(C = best_C, random_state=0, class_weight='balanced')\n",
    "model_tfidf.fit(X_tr, y_train)\n",
    "\n",
    "def plot_roc_curve(test_fpr, test_tpr, train_fpr, train_tpr):  \n",
    "    plt.plot(train_fpr, train_tpr, color='red', label='ROC for train')\n",
    "    plt.plot(test_fpr, test_tpr, color='orange', label='ROC for test')\n",
    "    plt.plot([0, 1], [0, 1], color='darkblue', linestyle='--')\n",
    "    plt.xlabel('C: Hyperparameter')\n",
    "    plt.ylabel('AUC')\n",
    "    plt.title('Receiver Operating Characteristic (ROC) Curve')\n",
    "    plt.legend()\n",
    "    plt.show()\n",
    "    \n",
    "y_test_pred = model_tfidf.predict_log_proba(X_te)  \n",
    "y_test_pred = y_test_pred[:, 1]\n",
    "\n",
    "y_train_pred = model_tfidf.predict_log_proba(X_tr)  \n",
    "y_train_pred = y_train_pred[:, 1] \n",
    "\n",
    "auc_train = roc_auc_score(y_train, y_train_pred)  \n",
    "print('AUC of Train Data: %.2f' % auc_train)  \n",
    "\n",
    "auc_test = roc_auc_score(y_test, y_test_pred)  \n",
    "print('AUC of Test Data: %.2f' % auc_test)  \n",
    "\n",
    "train_fpr, train_tpr, train_thresholds = roc_curve(y_train, y_train_pred)\n",
    "test_fpr, test_tpr, test_thresholds = roc_curve(y_test, y_test_pred)  \n",
    "\n",
    "plot_roc_curve(test_fpr, test_tpr, train_fpr, train_tpr)"
   ]
  },
  {
   "cell_type": "code",
   "execution_count": 64,
   "metadata": {},
   "outputs": [],
   "source": [
    "# we are writing our own function for predict, with defined thresould\n",
    "# we will pick a threshold that will give the least fpr\n",
    "def predict(proba, threshould, fpr, tpr):\n",
    "    \n",
    "    t = threshould[np.argmax(tpr*(1-fpr))]\n",
    "    \n",
    "    # (tpr*(1-fpr)) will be maximum if your fpr is very low and tpr is very high\n",
    "    \n",
    "    print(\"the maximum value of tpr*(1-fpr)\", max(tpr*(1-fpr)), \"for threshold\", np.round(t,3))\n",
    "    predictions = []\n",
    "    for i in proba:\n",
    "        if i>=t:\n",
    "            predictions.append(1)\n",
    "        else:\n",
    "            predictions.append(0)\n",
    "    return predictions"
   ]
  },
  {
   "cell_type": "code",
   "execution_count": 65,
   "metadata": {},
   "outputs": [
    {
     "name": "stdout",
     "output_type": "stream",
     "text": [
      "Train confusion matrix\n",
      "the maximum value of tpr*(1-fpr) 0.2499999818661462 for threshold -0.835\n"
     ]
    },
    {
     "data": {
      "image/png": "[encoded data removed]",
      "text/plain": [
       "<Figure size 432x288 with 2 Axes>"
      ]
     },
     "metadata": {},
     "output_type": "display_data"
    },
    {
     "name": "stdout",
     "output_type": "stream",
     "text": [
      "Test confusion matrix\n",
      "the maximum value of tpr*(1-fpr) 0.24999999161092998 for threshold -0.784\n"
     ]
    },
    {
     "data": {
      "image/png": "[encoded data removed]",
      "text/plain": [
       "<Figure size 432x288 with 2 Axes>"
      ]
     },
     "metadata": {},
     "output_type": "display_data"
    }
   ],
   "source": [
    "from sklearn.metrics import confusion_matrix\n",
    "\n",
    "print(\"Train confusion matrix\")\n",
    "cm_train = confusion_matrix(y_train, predict(y_train_pred, train_thresholds, train_fpr, train_fpr))\n",
    "\n",
    "class_names = ['negative','positive']\n",
    "sns.heatmap(cm_train, annot=True, fmt='d',cmap='viridis')\n",
    "plt.ylabel('Predicted label',size=18)\n",
    "plt.xlabel('True label',size=18)\n",
    "plt.title(\"Train Confusion Matrix\\n\",size=24)\n",
    "plt.show()\n",
    "\n",
    "print(\"Test confusion matrix\")\n",
    "cm_test = confusion_matrix(y_test, predict(y_test_pred, test_thresholds, test_fpr, test_fpr))\n",
    "\n",
    "class_names = ['negative','positive']\n",
    "sns.heatmap(cm_test, annot=True, fmt='d',cmap='viridis')\n",
    "plt.ylabel('Predicted label',size=18)\n",
    "plt.xlabel('True label',size=18)\n",
    "plt.title(\"Test Confusion Matrix\\n\",size=24)\n",
    "plt.show()"
   ]
  },
  {
   "cell_type": "markdown",
   "metadata": {},
   "source": [
    "## Set 3: categorical, numerical features + project_title(AVG W2V)+ preprocessed_essay (AVG W2V)\n",
    "\n",
    "<a id='set3'></a>"
   ]
  },
  {
   "cell_type": "code",
   "execution_count": 79,
   "metadata": {},
   "outputs": [
    {
     "data": {
      "image/png": "[encoded data removed]",
      "text/plain": [
       "<Figure size 432x288 with 1 Axes>"
      ]
     },
     "metadata": {},
     "output_type": "display_data"
    },
    {
     "name": "stdout",
     "output_type": "stream",
     "text": [
      "Wall time: 28min 11s\n"
     ]
    }
   ],
   "source": [
    "%%time\n",
    "\n",
    "#Citation:\n",
    "#This code is copied from here: https://stackoverflow.com/a/48803361/4084039\n",
    "\n",
    "from sklearn.model_selection import GridSearchCV\n",
    "from sklearn.linear_model import LogisticRegression\n",
    "\n",
    "model_avgw2v = LogisticRegression(random_state=0, class_weight='balanced')\n",
    "\n",
    "#to plot the graph properly I used logspace. \n",
    "#The below code (-3, 2, 6) means 10^-3 to 10^2 with 6 values, That is\n",
    "#0.001, 0.01, 0.1, 1, 10, 100 -> 6 values. Default base is 10 for logspace.\n",
    "\n",
    "param_grid = {\n",
    "    \n",
    "    'C': np.logspace(-3, 2, 6)\n",
    "}\n",
    "\n",
    "grid = GridSearchCV(model_avgw2v, param_grid, cv=3, scoring='roc_auc')\n",
    "                    \n",
    "grid.fit(X_tr, y_train)\n",
    "\n",
    "Cs = np.logspace(-3, 2, 6)\n",
    "\n",
    "train_auc = grid.cv_results_[\"mean_train_score\"]\n",
    "train_scores_std = grid.cv_results_[\"std_train_score\"]\n",
    "cv_auc = grid.cv_results_[\"mean_test_score\"]\n",
    "cv_scores_std = grid.cv_results_[\"std_test_score\"]\n",
    "\n",
    "plt.figure()\n",
    "plt.title('Performance graph')\n",
    "plt.xlabel('C: Hyperparameter')\n",
    "plt.ylabel('AUC')\n",
    "\n",
    "# plot train scores\n",
    "#Make a plot with log scaling on the x axis I used semilogx.\n",
    "\n",
    "plt.semilogx(Cs, train_auc, label='Train AUC', color='darkblue')\n",
    "\n",
    "# create a shaded area between [mean - std, mean + std]\n",
    "plt.gca().fill_between(Cs,\n",
    "                       train_auc - train_scores_std,\n",
    "                       train_auc + train_scores_std,\n",
    "                       alpha=0.2,\n",
    "                       color='darkblue')\n",
    "\n",
    "plt.semilogx(Cs, cv_auc, label='CV AUC', color='darkorange')\n",
    "\n",
    "# create a shaded area between [mean - std, mean + std]\n",
    "plt.gca().fill_between(Cs,\n",
    "                       cv_auc - cv_scores_std,\n",
    "                       cv_auc + cv_scores_std,\n",
    "                       alpha=0.2,\n",
    "                       color='darkorange')\n",
    "\n",
    "plt.scatter(Cs, train_auc, label='Train AUC points', color='darkblue')\n",
    "plt.scatter(Cs, cv_auc, label='CV AUC points', color='darkorange')\n",
    "\n",
    "#Citation for plotting the legend outside the plot\n",
    "#url: https://matplotlib.org/users/legend_guide.html\n",
    "\n",
    "plt.legend(bbox_to_anchor=(1.05, 1), loc=2, borderaxespad=0.)\n",
    "plt.show()"
   ]
  },
  {
   "cell_type": "code",
   "execution_count": 80,
   "metadata": {},
   "outputs": [
    {
     "name": "stdout",
     "output_type": "stream",
     "text": [
      "Best parameters:  {'C': 0.1}\n"
     ]
    }
   ],
   "source": [
    "print(\"Best parameters: \", grid.best_params_)"
   ]
  },
  {
   "cell_type": "code",
   "execution_count": 81,
   "metadata": {},
   "outputs": [
    {
     "name": "stdout",
     "output_type": "stream",
     "text": [
      "AUC of Train Data: 0.75\n",
      "AUC of Test Data: 0.72\n"
     ]
    },
    {
     "data": {
      "image/png": "[encoded data removed]",
      "text/plain": [
       "<Figure size 432x288 with 1 Axes>"
      ]
     },
     "metadata": {},
     "output_type": "display_data"
    },
    {
     "name": "stdout",
     "output_type": "stream",
     "text": [
      "Wall time: 53.8 s\n"
     ]
    }
   ],
   "source": [
    "%%time\n",
    "\n",
    "#Citation: plot roc auc curve\n",
    "#url: https://stackabuse.com/understanding-roc-curves-with-python/\n",
    "\n",
    "best_C = 0.1\n",
    "\n",
    "from sklearn.linear_model import LogisticRegression \n",
    "from sklearn.metrics import roc_curve, auc\n",
    "from sklearn.metrics import roc_curve\n",
    "from sklearn.metrics import roc_auc_score\n",
    "from matplotlib import pyplot\n",
    "\n",
    "model_tfidf = LogisticRegression(C = best_C, random_state=0, class_weight='balanced')\n",
    "model_tfidf.fit(X_tr, y_train)\n",
    "\n",
    "def plot_roc_curve(test_fpr, test_tpr, train_fpr, train_tpr):  \n",
    "    plt.plot(train_fpr, train_tpr, color='red', label='ROC for train')\n",
    "    plt.plot(test_fpr, test_tpr, color='orange', label='ROC for test')\n",
    "    plt.plot([0, 1], [0, 1], color='darkblue', linestyle='--')\n",
    "    plt.xlabel('C: Hyperparameter')\n",
    "    plt.ylabel('AUC')\n",
    "    plt.title('Receiver Operating Characteristic (ROC) Curve')\n",
    "    plt.legend()\n",
    "    plt.show()\n",
    "    \n",
    "y_test_pred = model_tfidf.predict_log_proba(X_te)  \n",
    "y_test_pred = y_test_pred[:, 1]\n",
    "\n",
    "y_train_pred = model_tfidf.predict_log_proba(X_tr)  \n",
    "y_train_pred = y_train_pred[:, 1] \n",
    "\n",
    "auc_train = roc_auc_score(y_train, y_train_pred)  \n",
    "print('AUC of Train Data: %.2f' % auc_train)  \n",
    "\n",
    "auc_test = roc_auc_score(y_test, y_test_pred)  \n",
    "print('AUC of Test Data: %.2f' % auc_test)  \n",
    "\n",
    "train_fpr, train_tpr, train_thresholds = roc_curve(y_train, y_train_pred)\n",
    "test_fpr, test_tpr, test_thresholds = roc_curve(y_test, y_test_pred)  \n",
    "\n",
    "plot_roc_curve(test_fpr, test_tpr, train_fpr, train_tpr)"
   ]
  },
  {
   "cell_type": "code",
   "execution_count": 82,
   "metadata": {},
   "outputs": [],
   "source": [
    "# we are writing our own function for predict, with defined thresould\n",
    "# we will pick a threshold that will give the least fpr\n",
    "def predict(proba, threshould, fpr, tpr):\n",
    "    \n",
    "    t = threshould[np.argmax(tpr*(1-fpr))]\n",
    "    \n",
    "    # (tpr*(1-fpr)) will be maximum if your fpr is very low and tpr is very high\n",
    "    \n",
    "    print(\"the maximum value of tpr*(1-fpr)\", max(tpr*(1-fpr)), \"for threshold\", np.round(t,3))\n",
    "    predictions = []\n",
    "    for i in proba:\n",
    "        if i>=t:\n",
    "            predictions.append(1)\n",
    "        else:\n",
    "            predictions.append(0)\n",
    "    return predictions"
   ]
  },
  {
   "cell_type": "code",
   "execution_count": 83,
   "metadata": {},
   "outputs": [
    {
     "name": "stdout",
     "output_type": "stream",
     "text": [
      "Train confusion matrix\n",
      "the maximum value of tpr*(1-fpr) 0.25 for threshold -0.931\n"
     ]
    },
    {
     "data": {
      "image/png": "[encoded data removed]",
      "text/plain": [
       "<Figure size 432x288 with 2 Axes>"
      ]
     },
     "metadata": {},
     "output_type": "display_data"
    },
    {
     "name": "stdout",
     "output_type": "stream",
     "text": [
      "Test confusion matrix\n",
      "the maximum value of tpr*(1-fpr) 0.24999999161092998 for threshold -0.869\n"
     ]
    },
    {
     "data": {
      "image/png": "[encoded data removed]",
      "text/plain": [
       "<Figure size 432x288 with 2 Axes>"
      ]
     },
     "metadata": {},
     "output_type": "display_data"
    }
   ],
   "source": [
    "from sklearn.metrics import confusion_matrix\n",
    "\n",
    "print(\"Train confusion matrix\")\n",
    "cm_train = confusion_matrix(y_train, predict(y_train_pred, train_thresholds, train_fpr, train_fpr))\n",
    "\n",
    "class_names = ['negative','positive']\n",
    "sns.heatmap(cm_train, annot=True, fmt='d',cmap='viridis')\n",
    "plt.ylabel('Predicted label',size=18)\n",
    "plt.xlabel('True label',size=18)\n",
    "plt.title(\"Train Confusion Matrix\\n\",size=24)\n",
    "plt.show()\n",
    "\n",
    "print(\"Test confusion matrix\")\n",
    "cm_test = confusion_matrix(y_test, predict(y_test_pred, test_thresholds, test_fpr, test_fpr))\n",
    "\n",
    "class_names = ['negative','positive']\n",
    "sns.heatmap(cm_test, annot=True, fmt='d',cmap='viridis')\n",
    "plt.ylabel('Predicted label',size=18)\n",
    "plt.xlabel('True label',size=18)\n",
    "plt.title(\"Test Confusion Matrix\\n\",size=24)\n",
    "plt.show()"
   ]
  },
  {
   "cell_type": "markdown",
   "metadata": {},
   "source": [
    "## Set 4: categorical, numerical features + project_title(TFIDF AVG W2V)+ preprocessed_essay (TFIDF AVG W2V)\n",
    "\n",
    "<a id='set4'></a>"
   ]
  },
  {
   "cell_type": "code",
   "execution_count": 90,
   "metadata": {},
   "outputs": [
    {
     "data": {
      "image/png": "[encoded data removed]",
      "text/plain": [
       "<Figure size 432x288 with 1 Axes>"
      ]
     },
     "metadata": {},
     "output_type": "display_data"
    },
    {
     "name": "stdout",
     "output_type": "stream",
     "text": [
      "Wall time: 31min 26s\n"
     ]
    }
   ],
   "source": [
    "%%time\n",
    "\n",
    "#Citation:\n",
    "#This code is copied from here: https://stackoverflow.com/a/48803361/4084039\n",
    "\n",
    "from sklearn.model_selection import GridSearchCV\n",
    "from sklearn.linear_model import LogisticRegression\n",
    "\n",
    "model_tfidfavgw2v = LogisticRegression(random_state=0, class_weight='balanced')\n",
    "\n",
    "#to plot the graph properly I used logspace. \n",
    "#The below code (-3, 2, 6) means 10^-3 to 10^2 with 6 values, That is\n",
    "#0.001, 0.01, 0.1, 1, 10, 100 -> 6 values. Default base is 10 for logspace.\n",
    "\n",
    "param_grid = {\n",
    "    \n",
    "    'C': np.logspace(-3, 2, 6)\n",
    "}\n",
    "\n",
    "grid = GridSearchCV(model_tfidfavgw2v, param_grid, cv=3, scoring='roc_auc')\n",
    "                    \n",
    "grid.fit(X_tr, y_train)\n",
    "\n",
    "Cs = np.logspace(-3, 2, 6)\n",
    "\n",
    "train_auc = grid.cv_results_[\"mean_train_score\"]\n",
    "train_scores_std = grid.cv_results_[\"std_train_score\"]\n",
    "cv_auc = grid.cv_results_[\"mean_test_score\"]\n",
    "cv_scores_std = grid.cv_results_[\"std_test_score\"]\n",
    "\n",
    "plt.figure()\n",
    "plt.title('Performance graph')\n",
    "plt.xlabel('C: Hyperparameter')\n",
    "plt.ylabel('AUC')\n",
    "\n",
    "# plot train scores\n",
    "#Make a plot with log scaling on the x axis I used semilogx.\n",
    "\n",
    "plt.semilogx(Cs, train_auc, label='Train AUC', color='darkblue')\n",
    "\n",
    "# create a shaded area between [mean - std, mean + std]\n",
    "plt.gca().fill_between(Cs,\n",
    "                       train_auc - train_scores_std,\n",
    "                       train_auc + train_scores_std,\n",
    "                       alpha=0.2,\n",
    "                       color='darkblue')\n",
    "\n",
    "plt.semilogx(Cs, cv_auc, label='CV AUC', color='darkorange')\n",
    "\n",
    "# create a shaded area between [mean - std, mean + std]\n",
    "plt.gca().fill_between(Cs,\n",
    "                       cv_auc - cv_scores_std,\n",
    "                       cv_auc + cv_scores_std,\n",
    "                       alpha=0.2,\n",
    "                       color='darkorange')\n",
    "\n",
    "plt.scatter(Cs, train_auc, label='Train AUC points', color='darkblue')\n",
    "plt.scatter(Cs, cv_auc, label='CV AUC points', color='darkorange')\n",
    "\n",
    "#Citation for plotting the legend outside the plot\n",
    "#url: https://matplotlib.org/users/legend_guide.html\n",
    "\n",
    "plt.legend(bbox_to_anchor=(1.05, 1), loc=2, borderaxespad=0.)\n",
    "plt.show()"
   ]
  },
  {
   "cell_type": "code",
   "execution_count": 91,
   "metadata": {},
   "outputs": [
    {
     "name": "stdout",
     "output_type": "stream",
     "text": [
      "Best parameters:  {'C': 0.01}\n"
     ]
    }
   ],
   "source": [
    "print(\"Best parameters: \", grid.best_params_)"
   ]
  },
  {
   "cell_type": "code",
   "execution_count": 92,
   "metadata": {},
   "outputs": [
    {
     "name": "stdout",
     "output_type": "stream",
     "text": [
      "AUC of Train Data: 0.74\n",
      "AUC of Test Data: 0.71\n"
     ]
    },
    {
     "data": {
      "image/png": "[encoded data removed]",
      "text/plain": [
       "<Figure size 432x288 with 1 Axes>"
      ]
     },
     "metadata": {},
     "output_type": "display_data"
    },
    {
     "name": "stdout",
     "output_type": "stream",
     "text": [
      "Wall time: 25.1 s\n"
     ]
    }
   ],
   "source": [
    "%%time\n",
    "\n",
    "#Citation: plot roc auc curve\n",
    "#url: https://stackabuse.com/understanding-roc-curves-with-python/\n",
    "\n",
    "best_C = 0.01\n",
    "\n",
    "from sklearn.linear_model import LogisticRegression \n",
    "from sklearn.metrics import roc_curve, auc\n",
    "from sklearn.metrics import roc_curve\n",
    "from sklearn.metrics import roc_auc_score\n",
    "from matplotlib import pyplot\n",
    "\n",
    "model_tfidf = LogisticRegression(C = best_C, random_state=0, class_weight='balanced')\n",
    "model_tfidf.fit(X_tr, y_train)\n",
    "\n",
    "def plot_roc_curve(test_fpr, test_tpr, train_fpr, train_tpr):  \n",
    "    plt.plot(train_fpr, train_tpr, color='red', label='ROC for train')\n",
    "    plt.plot(test_fpr, test_tpr, color='orange', label='ROC for test')\n",
    "    plt.plot([0, 1], [0, 1], color='darkblue', linestyle='--')\n",
    "    plt.xlabel('C: Hyperparameter')\n",
    "    plt.ylabel('AUC')\n",
    "    plt.title('Receiver Operating Characteristic (ROC) Curve')\n",
    "    plt.legend()\n",
    "    plt.show()\n",
    "    \n",
    "y_test_pred = model_tfidf.predict_log_proba(X_te)  \n",
    "y_test_pred = y_test_pred[:, 1]\n",
    "\n",
    "y_train_pred = model_tfidf.predict_log_proba(X_tr)  \n",
    "y_train_pred = y_train_pred[:, 1] \n",
    "\n",
    "auc_train = roc_auc_score(y_train, y_train_pred)  \n",
    "print('AUC of Train Data: %.2f' % auc_train)  \n",
    "\n",
    "auc_test = roc_auc_score(y_test, y_test_pred)  \n",
    "print('AUC of Test Data: %.2f' % auc_test)  \n",
    "\n",
    "train_fpr, train_tpr, train_thresholds = roc_curve(y_train, y_train_pred)\n",
    "test_fpr, test_tpr, test_thresholds = roc_curve(y_test, y_test_pred)  \n",
    "\n",
    "plot_roc_curve(test_fpr, test_tpr, train_fpr, train_tpr)"
   ]
  },
  {
   "cell_type": "code",
   "execution_count": 93,
   "metadata": {},
   "outputs": [],
   "source": [
    "# we are writing our own function for predict, with defined thresould\n",
    "# we will pick a threshold that will give the least fpr\n",
    "def predict(proba, threshould, fpr, tpr):\n",
    "    \n",
    "    t = threshould[np.argmax(tpr*(1-fpr))]\n",
    "    \n",
    "    # (tpr*(1-fpr)) will be maximum if your fpr is very low and tpr is very high\n",
    "    \n",
    "    print(\"the maximum value of tpr*(1-fpr)\", max(tpr*(1-fpr)), \"for threshold\", np.round(t,3))\n",
    "    predictions = []\n",
    "    for i in proba:\n",
    "        if i>=t:\n",
    "            predictions.append(1)\n",
    "        else:\n",
    "            predictions.append(0)\n",
    "    return predictions"
   ]
  },
  {
   "cell_type": "code",
   "execution_count": 94,
   "metadata": {},
   "outputs": [
    {
     "name": "stdout",
     "output_type": "stream",
     "text": [
      "Train confusion matrix\n",
      "the maximum value of tpr*(1-fpr) 0.25 for threshold -0.887\n"
     ]
    },
    {
     "data": {
      "image/png": "[encoded data removed]",
      "text/plain": [
       "<Figure size 432x288 with 2 Axes>"
      ]
     },
     "metadata": {},
     "output_type": "display_data"
    },
    {
     "name": "stdout",
     "output_type": "stream",
     "text": [
      "Test confusion matrix\n",
      "the maximum value of tpr*(1-fpr) 0.24999999161092998 for threshold -0.842\n"
     ]
    },
    {
     "data": {
      "image/png": "[encoded data removed]",
      "text/plain": [
       "<Figure size 432x288 with 2 Axes>"
      ]
     },
     "metadata": {},
     "output_type": "display_data"
    }
   ],
   "source": [
    "from sklearn.metrics import confusion_matrix\n",
    "\n",
    "print(\"Train confusion matrix\")\n",
    "cm_train = confusion_matrix(y_train, predict(y_train_pred, train_thresholds, train_fpr, train_fpr))\n",
    "\n",
    "class_names = ['negative','positive']\n",
    "sns.heatmap(cm_train, annot=True, fmt='d',cmap='viridis')\n",
    "plt.ylabel('Predicted label',size=18)\n",
    "plt.xlabel('True label',size=18)\n",
    "plt.title(\"Train Confusion Matrix\\n\",size=24)\n",
    "plt.show()\n",
    "\n",
    "print(\"Test confusion matrix\")\n",
    "cm_test = confusion_matrix(y_test, predict(y_test_pred, test_thresholds, test_fpr, test_fpr))\n",
    "\n",
    "class_names = ['negative','positive']\n",
    "sns.heatmap(cm_test, annot=True, fmt='d',cmap='viridis')\n",
    "plt.ylabel('Predicted label',size=18)\n",
    "plt.xlabel('True label',size=18)\n",
    "plt.title(\"Test Confusion Matrix\\n\",size=24)\n",
    "plt.show()"
   ]
  },
  {
   "cell_type": "markdown",
   "metadata": {},
   "source": [
    "## Set 5: Applying Logistic Regression WITHOUT TEXT FEATURES (Essay, Project Title and Project Resource Summary). \n",
    "\n",
    "**Considering The Following Features:**\n",
    "- school_state : categorical data\n",
    "- clean_categories : categorical data\n",
    "- clean_subcategories : categorical data\n",
    "- project_grade_category :categorical data\n",
    "- teacher_prefix : categorical data\n",
    "- quantity : numerical data\n",
    "- teacher_number_of_previously_posted_projects : numerical data\n",
    "- price : numerical data\n",
    "- sentiment score's of each of the essay : numerical data\n",
    "- number of words in the title : numerical data\n",
    "- number of words in the combine essays : numerical data\n",
    "\n",
    "<a id='set5'></a>"
   ]
  },
  {
   "cell_type": "code",
   "execution_count": 96,
   "metadata": {},
   "outputs": [
    {
     "data": {
      "image/png": "[encoded data removed]",
      "text/plain": [
       "<Figure size 432x288 with 1 Axes>"
      ]
     },
     "metadata": {},
     "output_type": "display_data"
    },
    {
     "name": "stdout",
     "output_type": "stream",
     "text": [
      "Wall time: 26.9 s\n"
     ]
    }
   ],
   "source": [
    "%%time\n",
    "\n",
    "#Citation:\n",
    "#This code is copied from here: https://stackoverflow.com/a/48803361/4084039\n",
    "\n",
    "from sklearn.model_selection import GridSearchCV\n",
    "from sklearn.linear_model import LogisticRegression\n",
    "\n",
    "model_tfidfavgw2v = LogisticRegression(random_state=0, class_weight='balanced')\n",
    "\n",
    "#to plot the graph properly I used logspace. \n",
    "#The below code (-3, 2, 6) means 10^-3 to 10^2 with 6 values, That is\n",
    "#0.001, 0.01, 0.1, 1, 10, 100 -> 6 values. Default base is 10 for logspace.\n",
    "\n",
    "param_grid = {\n",
    "    \n",
    "    'C': np.logspace(-3, 2, 6)\n",
    "}\n",
    "\n",
    "grid = GridSearchCV(model_tfidfavgw2v, param_grid, cv=3, scoring='roc_auc')\n",
    "                    \n",
    "grid.fit(X_tr, y_train)\n",
    "\n",
    "Cs = np.logspace(-3, 2, 6)\n",
    "\n",
    "train_auc = grid.cv_results_[\"mean_train_score\"]\n",
    "train_scores_std = grid.cv_results_[\"std_train_score\"]\n",
    "cv_auc = grid.cv_results_[\"mean_test_score\"]\n",
    "cv_scores_std = grid.cv_results_[\"std_test_score\"]\n",
    "\n",
    "plt.figure()\n",
    "plt.title('Performance graph')\n",
    "plt.xlabel('C: Hyperparameter')\n",
    "plt.ylabel('AUC')\n",
    "\n",
    "# plot train scores\n",
    "#Make a plot with log scaling on the x axis I used semilogx.\n",
    "\n",
    "plt.semilogx(Cs, train_auc, label='Train AUC', color='darkblue')\n",
    "\n",
    "# create a shaded area between [mean - std, mean + std]\n",
    "plt.gca().fill_between(Cs,\n",
    "                       train_auc - train_scores_std,\n",
    "                       train_auc + train_scores_std,\n",
    "                       alpha=0.2,\n",
    "                       color='darkblue')\n",
    "\n",
    "plt.semilogx(Cs, cv_auc, label='CV AUC', color='darkorange')\n",
    "\n",
    "# create a shaded area between [mean - std, mean + std]\n",
    "plt.gca().fill_between(Cs,\n",
    "                       cv_auc - cv_scores_std,\n",
    "                       cv_auc + cv_scores_std,\n",
    "                       alpha=0.2,\n",
    "                       color='darkorange')\n",
    "\n",
    "plt.scatter(Cs, train_auc, label='Train AUC points', color='darkblue')\n",
    "plt.scatter(Cs, cv_auc, label='CV AUC points', color='darkorange')\n",
    "\n",
    "#Citation for plotting the legend outside the plot\n",
    "#url: https://matplotlib.org/users/legend_guide.html\n",
    "\n",
    "plt.legend(bbox_to_anchor=(1.05, 1), loc=2, borderaxespad=0.)\n",
    "plt.show()"
   ]
  },
  {
   "cell_type": "code",
   "execution_count": 97,
   "metadata": {},
   "outputs": [
    {
     "name": "stdout",
     "output_type": "stream",
     "text": [
      "Best parameters:  {'C': 0.01}\n"
     ]
    }
   ],
   "source": [
    "print(\"Best parameters: \", grid.best_params_)"
   ]
  },
  {
   "cell_type": "code",
   "execution_count": 98,
   "metadata": {},
   "outputs": [
    {
     "name": "stdout",
     "output_type": "stream",
     "text": [
      "AUC of Train Data: 0.65\n",
      "AUC of Test Data: 0.64\n"
     ]
    },
    {
     "data": {
      "image/png": "[encoded data removed]",
      "text/plain": [
       "<Figure size 432x288 with 1 Axes>"
      ]
     },
     "metadata": {},
     "output_type": "display_data"
    },
    {
     "name": "stdout",
     "output_type": "stream",
     "text": [
      "Wall time: 1.14 s\n"
     ]
    }
   ],
   "source": [
    "%%time\n",
    "\n",
    "#Citation: plot roc auc curve\n",
    "#url: https://stackabuse.com/understanding-roc-curves-with-python/\n",
    "\n",
    "best_C = 0.01\n",
    "\n",
    "from sklearn.linear_model import LogisticRegression \n",
    "from sklearn.metrics import roc_curve, auc\n",
    "from sklearn.metrics import roc_curve\n",
    "from sklearn.metrics import roc_auc_score\n",
    "from matplotlib import pyplot\n",
    "\n",
    "model_tfidf = LogisticRegression(C = best_C, random_state=0, class_weight='balanced')\n",
    "model_tfidf.fit(X_tr, y_train)\n",
    "\n",
    "def plot_roc_curve(test_fpr, test_tpr, train_fpr, train_tpr):  \n",
    "    plt.plot(train_fpr, train_tpr, color='red', label='ROC for train')\n",
    "    plt.plot(test_fpr, test_tpr, color='orange', label='ROC for test')\n",
    "    plt.plot([0, 1], [0, 1], color='darkblue', linestyle='--')\n",
    "    plt.xlabel('C: Hyperparameter')\n",
    "    plt.ylabel('AUC')\n",
    "    plt.title('Receiver Operating Characteristic (ROC) Curve')\n",
    "    plt.legend()\n",
    "    plt.show()\n",
    "    \n",
    "y_test_pred = model_tfidf.predict_log_proba(X_te)  \n",
    "y_test_pred = y_test_pred[:, 1]\n",
    "\n",
    "y_train_pred = model_tfidf.predict_log_proba(X_tr)  \n",
    "y_train_pred = y_train_pred[:, 1] \n",
    "\n",
    "auc_train = roc_auc_score(y_train, y_train_pred)  \n",
    "print('AUC of Train Data: %.2f' % auc_train)  \n",
    "\n",
    "auc_test = roc_auc_score(y_test, y_test_pred)  \n",
    "print('AUC of Test Data: %.2f' % auc_test)  \n",
    "\n",
    "train_fpr, train_tpr, train_thresholds = roc_curve(y_train, y_train_pred)\n",
    "test_fpr, test_tpr, test_thresholds = roc_curve(y_test, y_test_pred)  \n",
    "\n",
    "plot_roc_curve(test_fpr, test_tpr, train_fpr, train_tpr)"
   ]
  },
  {
   "cell_type": "code",
   "execution_count": 99,
   "metadata": {},
   "outputs": [],
   "source": [
    "# we are writing our own function for predict, with defined thresould\n",
    "# we will pick a threshold that will give the least fpr\n",
    "def predict(proba, threshould, fpr, tpr):\n",
    "    \n",
    "    t = threshould[np.argmax(tpr*(1-fpr))]\n",
    "    \n",
    "    # (tpr*(1-fpr)) will be maximum if your fpr is very low and tpr is very high\n",
    "    \n",
    "    print(\"the maximum value of tpr*(1-fpr)\", max(tpr*(1-fpr)), \"for threshold\", np.round(t,3))\n",
    "    predictions = []\n",
    "    for i in proba:\n",
    "        if i>=t:\n",
    "            predictions.append(1)\n",
    "        else:\n",
    "            predictions.append(0)\n",
    "    return predictions"
   ]
  },
  {
   "cell_type": "code",
   "execution_count": 100,
   "metadata": {},
   "outputs": [
    {
     "name": "stdout",
     "output_type": "stream",
     "text": [
      "Train confusion matrix\n",
      "the maximum value of tpr*(1-fpr) 0.25 for threshold -0.749\n"
     ]
    },
    {
     "data": {
      "image/png": "[encoded data removed]",
      "text/plain": [
       "<Figure size 432x288 with 2 Axes>"
      ]
     },
     "metadata": {},
     "output_type": "display_data"
    },
    {
     "name": "stdout",
     "output_type": "stream",
     "text": [
      "Test confusion matrix\n",
      "the maximum value of tpr*(1-fpr) 0.24999999161092995 for threshold -0.742\n"
     ]
    },
    {
     "data": {
      "image/png": "[encoded data removed]",
      "text/plain": [
       "<Figure size 432x288 with 2 Axes>"
      ]
     },
     "metadata": {},
     "output_type": "display_data"
    }
   ],
   "source": [
    "from sklearn.metrics import confusion_matrix\n",
    "\n",
    "print(\"Train confusion matrix\")\n",
    "cm_train = confusion_matrix(y_train, predict(y_train_pred, train_thresholds, train_fpr, train_fpr))\n",
    "\n",
    "class_names = ['negative','positive']\n",
    "sns.heatmap(cm_train, annot=True, fmt='d',cmap='viridis')\n",
    "plt.ylabel('Predicted label',size=18)\n",
    "plt.xlabel('True label',size=18)\n",
    "plt.title(\"Train Confusion Matrix\\n\",size=24)\n",
    "plt.show()\n",
    "\n",
    "print(\"Test confusion matrix\")\n",
    "cm_test = confusion_matrix(y_test, predict(y_test_pred, test_thresholds, test_fpr, test_fpr))\n",
    "\n",
    "class_names = ['negative','positive']\n",
    "sns.heatmap(cm_test, annot=True, fmt='d',cmap='viridis')\n",
    "plt.ylabel('Predicted label',size=18)\n",
    "plt.xlabel('True label',size=18)\n",
    "plt.title(\"Test Confusion Matrix\\n\",size=24)\n",
    "plt.show()"
   ]
  },
  {
   "cell_type": "markdown",
   "metadata": {},
   "source": [
    "# 8. Conclusion\n",
    "<a id='conc'></a>"
   ]
  },
  {
   "cell_type": "code",
   "execution_count": 101,
   "metadata": {},
   "outputs": [
    {
     "name": "stdout",
     "output_type": "stream",
     "text": [
      "+-------+-----------------------------------------+---------------------+-------------------------+------+\n",
      "| Index |                Vectorizer               |        Model        | Hyper-parameter (C=1/λ) | AUC  |\n",
      "+-------+-----------------------------------------+---------------------+-------------------------+------+\n",
      "| Set 1 |               Bag Of Words              | Logistic Regression |          0.001          | 0.73 |\n",
      "| Set 2 |                  TFIDF                  | Logistic Regression |           0.1           | 0.7  |\n",
      "| Set 3 |                 AVG W2V                 | Logistic Regression |           0.1           | 0.72 |\n",
      "| Set 4 |              TFIDF AVG-W2V              | Logistic Regression |           0.01          | 0.71 |\n",
      "| Set 5 | Only Categorical and Numerical Features | Logistic Regression |           0.01          | 0.64 |\n",
      "+-------+-----------------------------------------+---------------------+-------------------------+------+\n"
     ]
    }
   ],
   "source": [
    "#Citation: \n",
    "#url: http://zetcode.com/python/prettytable/\n",
    "\n",
    "from prettytable import PrettyTable\n",
    "    \n",
    "x = PrettyTable()\n",
    "\n",
    "x.field_names = [\"Index\", \"Vectorizer\", \"Model\", \"Hyper-parameter (C=1/\\u03BB)\", \"AUC\"]\n",
    "\n",
    "x.add_row([\"Set 1\", \"Bag Of Words\", \"Logistic Regression\", 0.001, 0.73])\n",
    "x.add_row([\"Set 2\", \"TFIDF\", \"Logistic Regression\", 0.1, 0.70])\n",
    "x.add_row([\"Set 3\", \"AVG W2V\", \"Logistic Regression\", 0.1, 0.72])\n",
    "x.add_row([\"Set 4\", \"TFIDF AVG-W2V\", \"Logistic Regression\", 0.01, 0.71])\n",
    "x.add_row([\"Set 5\", \"Only Categorical and Numerical Features\", \"Logistic Regression\", 0.01, 0.64])\n",
    "\n",
    "print(x)"
   ]
  },
  {
   "cell_type": "markdown",
   "metadata": {},
   "source": [
    "**NOTE: Even if we dont consider text features and we consider only numerical and categorical features the AUC I got was 0.64 which is still pretty decent**"
   ]
  }
 ],
 "metadata": {
  "kernelspec": {
   "display_name": "Python 3",
   "language": "python",
   "name": "python3"
  },
  "language_info": {
   "codemirror_mode": {
    "name": "ipython",
    "version": 3
   },
   "file_extension": ".py",
   "mimetype": "text/x-python",
   "name": "python",
   "nbconvert_exporter": "python",
   "pygments_lexer": "ipython3",
   "version": "3.6.5"
  }
 },
 "nbformat": 4,
 "nbformat_minor": 2
}
